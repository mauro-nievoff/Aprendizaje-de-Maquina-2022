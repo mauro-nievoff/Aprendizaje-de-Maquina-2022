{
  "nbformat": 4,
  "nbformat_minor": 0,
  "metadata": {
    "colab": {
      "name": "TP_3_Nievas.ipynb",
      "provenance": [],
      "collapsed_sections": [],
      "authorship_tag": "ABX9TyOJbPDcjZZRIUCLlo5UWXW6",
      "include_colab_link": true
    },
    "kernelspec": {
      "name": "python3",
      "display_name": "Python 3"
    },
    "language_info": {
      "name": "python"
    }
  },
  "cells": [
    {
      "cell_type": "markdown",
      "metadata": {
        "id": "view-in-github",
        "colab_type": "text"
      },
      "source": [
        "<a href=\"https://colab.research.google.com/github/mauro-nievoff/Aprendizaje-de-Maquina-2022/blob/main/TP_3_Nievas.ipynb\" target=\"_parent\"><img src=\"https://colab.research.google.com/assets/colab-badge.svg\" alt=\"Open In Colab\"/></a>"
      ]
    },
    {
      "cell_type": "markdown",
      "source": [
        "# Trabajo Práctico 3"
      ],
      "metadata": {
        "id": "2M3v3wikEy5F"
      }
    },
    {
      "cell_type": "code",
      "source": [
        "import numpy as np\n",
        "import pandas as pd\n",
        "import matplotlib.pyplot as plt"
      ],
      "metadata": {
        "id": "igZrLOGhhSyS"
      },
      "execution_count": 1,
      "outputs": []
    },
    {
      "cell_type": "markdown",
      "source": [
        "## Ejercicio 3.1"
      ],
      "metadata": {
        "id": "Fl5Pxz2-E3PQ"
      }
    },
    {
      "cell_type": "markdown",
      "source": [
        "Creo una función para generar datasets balanceados de múltiples dimensiones."
      ],
      "metadata": {
        "id": "AR_vs1R8Vq1F"
      }
    },
    {
      "cell_type": "code",
      "source": [
        "def crear_dataset_balanceado(etiquetas, datos_por_grupo, dimensiones, centroides, covarianzas):\n",
        "\n",
        "  '''\n",
        "  La función genera un dataframe con múltiples dimensiones que incluye datos de distintos grupos ordenados de manera aleatoria.\n",
        "\n",
        "  etiquetas: Lista de strings con los nombres de cada grupo de datos.\n",
        "  datos_por_grupo: Número entero. Es la cantidad de datos que tendrá cada grupo.\n",
        "  dimensiones: Número entero. Es la cantidad de variables con valores generados aleatoriamente que tendrá el dataset.\n",
        "  centroides: Lista de n listas con m elementos cada una, donde n es la cantidad de etiquetas, y m es la cantidad de dimensiones.\n",
        "    Por ejemplo, si se desea generar un dataset con 2 etiquetas y 3 dimensiones, se debe introducir un centroide con la estructura del siguiente ejemplo: [[0, 0, 0], `[10, 10, 10]].\n",
        "  covarianzas: Lista de n matrices de distribución de dimensiones m * m, donde n es la cantidad de etiquetas y m la cantidad de dimensiones.\n",
        "    Debe ser simétrica y positiva (para más detalle ver la documentación de numpy.random.multivariate_normal()).\n",
        "  '''\n",
        "\n",
        "  np.random.seed(7)\n",
        "\n",
        "  columnas = ['variable_' + str(numero + 1) for numero in range(dimensiones)] + ['etiqueta']\n",
        "\n",
        "  dataset = pd.DataFrame(columns = columnas)\n",
        "\n",
        "  for id_grupo, etiqueta in enumerate(etiquetas):\n",
        "\n",
        "    valores_de_variables = np.random.multivariate_normal(mean = centroides[id_grupo],\n",
        "                                                         cov = covarianzas[id_grupo],\n",
        "                                                         size = datos_por_grupo)\n",
        "    \n",
        "    datos_de_grupo = pd.DataFrame(valores_de_variables, columns = ['variable_' + str(numero + 1) for numero in range(dimensiones)])\n",
        "\n",
        "    datos_de_grupo['etiqueta'] = etiquetas[id_grupo]\n",
        "\n",
        "    dataset = pd.concat([dataset, datos_de_grupo], ignore_index = True)\n",
        "\n",
        "  dataset = dataset.sample(frac=1).reset_index(drop=True)\n",
        "\n",
        "  return dataset"
      ],
      "metadata": {
        "id": "7gE71l8yFBb9"
      },
      "execution_count": 2,
      "outputs": []
    },
    {
      "cell_type": "markdown",
      "source": [
        "Creo un dataset con dos variables aleatorias y dos etiquetas, cada uno con 100 datos."
      ],
      "metadata": {
        "id": "TamK8kxh3PKh"
      }
    },
    {
      "cell_type": "code",
      "source": [
        "etiquetas = ['grupo_A', 'grupo_B']\n",
        "n = 100\n",
        "dim = 2\n",
        "centroides = [[10, 10],\n",
        "              [16, 14]]\n",
        "covarianzas = [[[5, 0], [0, 5]],\n",
        "               [[4, 0], [0, 10]]]"
      ],
      "metadata": {
        "id": "jAfG4wuzlEHH"
      },
      "execution_count": 3,
      "outputs": []
    },
    {
      "cell_type": "code",
      "source": [
        "dataset = crear_dataset_balanceado(etiquetas = etiquetas,\n",
        "                                   datos_por_grupo = n,\n",
        "                                   dimensiones = dim,\n",
        "                                   centroides = centroides,\n",
        "                                   covarianzas = covarianzas)"
      ],
      "metadata": {
        "id": "CaMuFP9ym6Tq"
      },
      "execution_count": 4,
      "outputs": []
    },
    {
      "cell_type": "code",
      "source": [
        "dataset.head(10)"
      ],
      "metadata": {
        "colab": {
          "base_uri": "https://localhost:8080/",
          "height": 363
        },
        "id": "n9FmKyXexkSJ",
        "outputId": "31e4c0ec-3372-4f94-b27a-73ab683b72f9"
      },
      "execution_count": null,
      "outputs": [
        {
          "output_type": "execute_result",
          "data": {
            "text/plain": [
              "   variable_1  variable_2 etiqueta\n",
              "0   11.087479    8.726621  grupo_A\n",
              "1   17.621537   14.949043  grupo_B\n",
              "2   10.032398    5.989279  grupo_A\n",
              "3    6.180037    5.968149  grupo_A\n",
              "4   13.797001   15.491892  grupo_B\n",
              "5   15.554100    8.406653  grupo_B\n",
              "6   16.608614   11.590266  grupo_B\n",
              "7    8.172953   10.430013  grupo_A\n",
              "8   10.242945   13.216001  grupo_A\n",
              "9   16.618322   12.368130  grupo_B"
            ],
            "text/html": [
              "\n",
              "  <div id=\"df-3804c0e5-d8f0-425f-a8d2-34a5eb67d81e\">\n",
              "    <div class=\"colab-df-container\">\n",
              "      <div>\n",
              "<style scoped>\n",
              "    .dataframe tbody tr th:only-of-type {\n",
              "        vertical-align: middle;\n",
              "    }\n",
              "\n",
              "    .dataframe tbody tr th {\n",
              "        vertical-align: top;\n",
              "    }\n",
              "\n",
              "    .dataframe thead th {\n",
              "        text-align: right;\n",
              "    }\n",
              "</style>\n",
              "<table border=\"1\" class=\"dataframe\">\n",
              "  <thead>\n",
              "    <tr style=\"text-align: right;\">\n",
              "      <th></th>\n",
              "      <th>variable_1</th>\n",
              "      <th>variable_2</th>\n",
              "      <th>etiqueta</th>\n",
              "    </tr>\n",
              "  </thead>\n",
              "  <tbody>\n",
              "    <tr>\n",
              "      <th>0</th>\n",
              "      <td>11.087479</td>\n",
              "      <td>8.726621</td>\n",
              "      <td>grupo_A</td>\n",
              "    </tr>\n",
              "    <tr>\n",
              "      <th>1</th>\n",
              "      <td>17.621537</td>\n",
              "      <td>14.949043</td>\n",
              "      <td>grupo_B</td>\n",
              "    </tr>\n",
              "    <tr>\n",
              "      <th>2</th>\n",
              "      <td>10.032398</td>\n",
              "      <td>5.989279</td>\n",
              "      <td>grupo_A</td>\n",
              "    </tr>\n",
              "    <tr>\n",
              "      <th>3</th>\n",
              "      <td>6.180037</td>\n",
              "      <td>5.968149</td>\n",
              "      <td>grupo_A</td>\n",
              "    </tr>\n",
              "    <tr>\n",
              "      <th>4</th>\n",
              "      <td>13.797001</td>\n",
              "      <td>15.491892</td>\n",
              "      <td>grupo_B</td>\n",
              "    </tr>\n",
              "    <tr>\n",
              "      <th>5</th>\n",
              "      <td>15.554100</td>\n",
              "      <td>8.406653</td>\n",
              "      <td>grupo_B</td>\n",
              "    </tr>\n",
              "    <tr>\n",
              "      <th>6</th>\n",
              "      <td>16.608614</td>\n",
              "      <td>11.590266</td>\n",
              "      <td>grupo_B</td>\n",
              "    </tr>\n",
              "    <tr>\n",
              "      <th>7</th>\n",
              "      <td>8.172953</td>\n",
              "      <td>10.430013</td>\n",
              "      <td>grupo_A</td>\n",
              "    </tr>\n",
              "    <tr>\n",
              "      <th>8</th>\n",
              "      <td>10.242945</td>\n",
              "      <td>13.216001</td>\n",
              "      <td>grupo_A</td>\n",
              "    </tr>\n",
              "    <tr>\n",
              "      <th>9</th>\n",
              "      <td>16.618322</td>\n",
              "      <td>12.368130</td>\n",
              "      <td>grupo_B</td>\n",
              "    </tr>\n",
              "  </tbody>\n",
              "</table>\n",
              "</div>\n",
              "      <button class=\"colab-df-convert\" onclick=\"convertToInteractive('df-3804c0e5-d8f0-425f-a8d2-34a5eb67d81e')\"\n",
              "              title=\"Convert this dataframe to an interactive table.\"\n",
              "              style=\"display:none;\">\n",
              "        \n",
              "  <svg xmlns=\"http://www.w3.org/2000/svg\" height=\"24px\"viewBox=\"0 0 24 24\"\n",
              "       width=\"24px\">\n",
              "    <path d=\"M0 0h24v24H0V0z\" fill=\"none\"/>\n",
              "    <path d=\"M18.56 5.44l.94 2.06.94-2.06 2.06-.94-2.06-.94-.94-2.06-.94 2.06-2.06.94zm-11 1L8.5 8.5l.94-2.06 2.06-.94-2.06-.94L8.5 2.5l-.94 2.06-2.06.94zm10 10l.94 2.06.94-2.06 2.06-.94-2.06-.94-.94-2.06-.94 2.06-2.06.94z\"/><path d=\"M17.41 7.96l-1.37-1.37c-.4-.4-.92-.59-1.43-.59-.52 0-1.04.2-1.43.59L10.3 9.45l-7.72 7.72c-.78.78-.78 2.05 0 2.83L4 21.41c.39.39.9.59 1.41.59.51 0 1.02-.2 1.41-.59l7.78-7.78 2.81-2.81c.8-.78.8-2.07 0-2.86zM5.41 20L4 18.59l7.72-7.72 1.47 1.35L5.41 20z\"/>\n",
              "  </svg>\n",
              "      </button>\n",
              "      \n",
              "  <style>\n",
              "    .colab-df-container {\n",
              "      display:flex;\n",
              "      flex-wrap:wrap;\n",
              "      gap: 12px;\n",
              "    }\n",
              "\n",
              "    .colab-df-convert {\n",
              "      background-color: #E8F0FE;\n",
              "      border: none;\n",
              "      border-radius: 50%;\n",
              "      cursor: pointer;\n",
              "      display: none;\n",
              "      fill: #1967D2;\n",
              "      height: 32px;\n",
              "      padding: 0 0 0 0;\n",
              "      width: 32px;\n",
              "    }\n",
              "\n",
              "    .colab-df-convert:hover {\n",
              "      background-color: #E2EBFA;\n",
              "      box-shadow: 0px 1px 2px rgba(60, 64, 67, 0.3), 0px 1px 3px 1px rgba(60, 64, 67, 0.15);\n",
              "      fill: #174EA6;\n",
              "    }\n",
              "\n",
              "    [theme=dark] .colab-df-convert {\n",
              "      background-color: #3B4455;\n",
              "      fill: #D2E3FC;\n",
              "    }\n",
              "\n",
              "    [theme=dark] .colab-df-convert:hover {\n",
              "      background-color: #434B5C;\n",
              "      box-shadow: 0px 1px 3px 1px rgba(0, 0, 0, 0.15);\n",
              "      filter: drop-shadow(0px 1px 2px rgba(0, 0, 0, 0.3));\n",
              "      fill: #FFFFFF;\n",
              "    }\n",
              "  </style>\n",
              "\n",
              "      <script>\n",
              "        const buttonEl =\n",
              "          document.querySelector('#df-3804c0e5-d8f0-425f-a8d2-34a5eb67d81e button.colab-df-convert');\n",
              "        buttonEl.style.display =\n",
              "          google.colab.kernel.accessAllowed ? 'block' : 'none';\n",
              "\n",
              "        async function convertToInteractive(key) {\n",
              "          const element = document.querySelector('#df-3804c0e5-d8f0-425f-a8d2-34a5eb67d81e');\n",
              "          const dataTable =\n",
              "            await google.colab.kernel.invokeFunction('convertToInteractive',\n",
              "                                                     [key], {});\n",
              "          if (!dataTable) return;\n",
              "\n",
              "          const docLinkHtml = 'Like what you see? Visit the ' +\n",
              "            '<a target=\"_blank\" href=https://colab.research.google.com/notebooks/data_table.ipynb>data table notebook</a>'\n",
              "            + ' to learn more about interactive tables.';\n",
              "          element.innerHTML = '';\n",
              "          dataTable['output_type'] = 'display_data';\n",
              "          await google.colab.output.renderOutput(dataTable, element);\n",
              "          const docLink = document.createElement('div');\n",
              "          docLink.innerHTML = docLinkHtml;\n",
              "          element.appendChild(docLink);\n",
              "        }\n",
              "      </script>\n",
              "    </div>\n",
              "  </div>\n",
              "  "
            ]
          },
          "metadata": {},
          "execution_count": 65
        }
      ]
    },
    {
      "cell_type": "markdown",
      "source": [
        "Divido los datos de entrenamiento y los de testeo, de manera de incluir la mitad del dataset original en cada grupo."
      ],
      "metadata": {
        "id": "AeaZqMA03jdX"
      }
    },
    {
      "cell_type": "code",
      "source": [
        "from sklearn.model_selection import train_test_split\n",
        "\n",
        "training_set, test_set = train_test_split(dataset, test_size=0.5)"
      ],
      "metadata": {
        "id": "u6lkGB5Y27AV"
      },
      "execution_count": 5,
      "outputs": []
    },
    {
      "cell_type": "code",
      "source": [
        "plt.scatter(x = training_set['variable_1'], y = training_set['variable_2'], c = training_set['etiqueta'].map({'grupo_A': 'red', 'grupo_B': 'blue'}))"
      ],
      "metadata": {
        "colab": {
          "base_uri": "https://localhost:8080/",
          "height": 282
        },
        "id": "E8xzASoj0VOr",
        "outputId": "92d2066f-620f-4ce4-b8b2-1c09de3f5250"
      },
      "execution_count": null,
      "outputs": [
        {
          "output_type": "execute_result",
          "data": {
            "text/plain": [
              "<matplotlib.collections.PathCollection at 0x7f5efbba0890>"
            ]
          },
          "metadata": {},
          "execution_count": 67
        },
        {
          "output_type": "display_data",
          "data": {
            "text/plain": [
              "<Figure size 432x288 with 1 Axes>"
            ],
            "image/png": "[encoded data removed]"
          },
          "metadata": {
            "needs_background": "light"
          }
        }
      ]
    },
    {
      "cell_type": "markdown",
      "source": [
        "Creo un modelo de k vecinos más cercanos (con k = 10) y lo entreno."
      ],
      "metadata": {
        "id": "ERVmUE9G5TJd"
      }
    },
    {
      "cell_type": "code",
      "source": [
        "from sklearn import neighbors\n",
        "\n",
        "X = training_set.loc[:, training_set.columns != 'etiqueta']\n",
        "\n",
        "y = training_set['etiqueta']\n",
        "\n",
        "k = 10\n",
        "\n",
        "knn = neighbors.KNeighborsClassifier(n_neighbors = k)\n",
        "\n",
        "knn.fit(X, y)"
      ],
      "metadata": {
        "colab": {
          "base_uri": "https://localhost:8080/"
        },
        "id": "Penu28yozOvQ",
        "outputId": "c7a48c83-4186-45a0-cb55-c5aae6a116d4"
      },
      "execution_count": 6,
      "outputs": [
        {
          "output_type": "execute_result",
          "data": {
            "text/plain": [
              "KNeighborsClassifier(n_neighbors=10)"
            ]
          },
          "metadata": {},
          "execution_count": 6
        }
      ]
    },
    {
      "cell_type": "markdown",
      "source": [
        "Testeo y calculo las métricas."
      ],
      "metadata": {
        "id": "XeVt9B8_6E49"
      }
    },
    {
      "cell_type": "code",
      "source": [
        "X_test = test_set.loc[:, training_set.columns != 'etiqueta']\n",
        "\n",
        "predicciones = knn.predict(X_test)"
      ],
      "metadata": {
        "id": "MM34HtTk40Zo"
      },
      "execution_count": 7,
      "outputs": []
    },
    {
      "cell_type": "code",
      "source": [
        "from sklearn.metrics import classification_report\n",
        "\n",
        "print(classification_report(test_set['etiqueta'], predicciones))"
      ],
      "metadata": {
        "colab": {
          "base_uri": "https://localhost:8080/"
        },
        "id": "n9_TOD7J53k5",
        "outputId": "a81e276a-f908-4536-ffa1-fae371efa4ad"
      },
      "execution_count": 8,
      "outputs": [
        {
          "output_type": "stream",
          "name": "stdout",
          "text": [
            "              precision    recall  f1-score   support\n",
            "\n",
            "     grupo_A       0.96      0.92      0.94        50\n",
            "     grupo_B       0.92      0.96      0.94        50\n",
            "\n",
            "    accuracy                           0.94       100\n",
            "   macro avg       0.94      0.94      0.94       100\n",
            "weighted avg       0.94      0.94      0.94       100\n",
            "\n"
          ]
        }
      ]
    },
    {
      "cell_type": "markdown",
      "source": [
        "### Experimentos con 2 dimensiones y distintos parámetros"
      ],
      "metadata": {
        "id": "FYyeO18t7rwz"
      }
    },
    {
      "cell_type": "code",
      "source": [
        "etiquetas = ['grupo_A', 'grupo_B']\n",
        "dim = 2\n",
        "valores_N = [100, 10000]\n",
        "valores_k = [3, 10, 30]\n",
        "valores_centroides = [[[10, 10], [15, 15]], # Dos centroides relativamente cercanos entre sí.\n",
        "                      [[10, 10], [25, 25]]] # Dos centroides más alejados.\n",
        "valores_covarianzas = [[[[5, 0], [0, 5]], # Covarianzas relativamente bajas.\n",
        "                        [[4, 0], [0, 4]]],\n",
        "                       [[[15, 0], [0, 15]], # Covarianzas relativamente altas.\n",
        "                        [[20, 0], [0, 20]]]]"
      ],
      "metadata": {
        "id": "qyVfLAu27kxY"
      },
      "execution_count": 9,
      "outputs": []
    },
    {
      "cell_type": "code",
      "source": [
        "columnas = ['dimensiones', 'n_por_grupo', 'k', 'centroides', 'covarianzas', 'recall', 'precision', 'f1-score']\n",
        "\n",
        "resultados = pd.DataFrame(columns = columnas)\n",
        "\n",
        "for n in valores_N:\n",
        "  for k in valores_k:\n",
        "    for centroides in valores_centroides:\n",
        "      for covarianzas in valores_covarianzas:\n",
        "\n",
        "        prueba = {}\n",
        "\n",
        "        prueba['dimensiones'] = [dim]\n",
        "\n",
        "        prueba['n_por_grupo'] = [n]\n",
        "\n",
        "        prueba['k'] = [k]\n",
        "\n",
        "        prueba['centroides'] = [centroides]\n",
        "\n",
        "        prueba['covarianzas'] = [covarianzas]\n",
        "\n",
        "        dataset = crear_dataset_balanceado(etiquetas = etiquetas,\n",
        "                                           datos_por_grupo = n,\n",
        "                                           dimensiones = dim,\n",
        "                                           centroides = centroides,\n",
        "                                           covarianzas = covarianzas)\n",
        "\n",
        "        training_set, test_set = train_test_split(dataset, test_size=0.5)\n",
        "\n",
        "        X = training_set.loc[:, training_set.columns != 'etiqueta']\n",
        "\n",
        "        y = training_set['etiqueta']\n",
        "\n",
        "        knn = neighbors.KNeighborsClassifier(n_neighbors = k)\n",
        "\n",
        "        knn.fit(X, y)\n",
        "\n",
        "        X_test = test_set.loc[:, training_set.columns != 'etiqueta']\n",
        "\n",
        "        predicciones = knn.predict(X_test)\n",
        "\n",
        "        report = classification_report(test_set['etiqueta'], predicciones, output_dict = True)['macro avg']\n",
        "        \n",
        "        prueba['recall'] = [report['recall']]\n",
        "\n",
        "        prueba['precision'] = [report['precision']]\n",
        "\n",
        "        prueba['f1-score'] = [report['f1-score']]\n",
        "        \n",
        "        resultado_prueba = pd.DataFrame.from_dict(prueba)\n",
        "\n",
        "        resultados = pd.concat([resultados, resultado_prueba], ignore_index = True)"
      ],
      "metadata": {
        "id": "5JLZIMGR88hK"
      },
      "execution_count": 10,
      "outputs": []
    },
    {
      "cell_type": "markdown",
      "source": [
        "Las métricas más bajas corresponden a los casos con grupos con centroides más cercanos entre sí y con mayor covarianza."
      ],
      "metadata": {
        "id": "3nNuidlqCwU7"
      }
    },
    {
      "cell_type": "code",
      "source": [
        "resultados"
      ],
      "metadata": {
        "colab": {
          "base_uri": "https://localhost:8080/",
          "height": 802
        },
        "id": "Q7DlYxbxCF5k",
        "outputId": "b406483a-5eab-4cc0-a404-548c727d9c0f"
      },
      "execution_count": null,
      "outputs": [
        {
          "output_type": "execute_result",
          "data": {
            "text/plain": [
              "   dimensiones n_por_grupo   k            centroides  \\\n",
              "0            2         100   3  [[10, 10], [15, 15]]   \n",
              "1            2         100   3  [[10, 10], [15, 15]]   \n",
              "2            2         100   3  [[10, 10], [25, 25]]   \n",
              "3            2         100   3  [[10, 10], [25, 25]]   \n",
              "4            2         100  10  [[10, 10], [15, 15]]   \n",
              "5            2         100  10  [[10, 10], [15, 15]]   \n",
              "6            2         100  10  [[10, 10], [25, 25]]   \n",
              "7            2         100  10  [[10, 10], [25, 25]]   \n",
              "8            2         100  30  [[10, 10], [15, 15]]   \n",
              "9            2         100  30  [[10, 10], [15, 15]]   \n",
              "10           2         100  30  [[10, 10], [25, 25]]   \n",
              "11           2         100  30  [[10, 10], [25, 25]]   \n",
              "12           2       10000   3  [[10, 10], [15, 15]]   \n",
              "13           2       10000   3  [[10, 10], [15, 15]]   \n",
              "14           2       10000   3  [[10, 10], [25, 25]]   \n",
              "15           2       10000   3  [[10, 10], [25, 25]]   \n",
              "16           2       10000  10  [[10, 10], [15, 15]]   \n",
              "17           2       10000  10  [[10, 10], [15, 15]]   \n",
              "18           2       10000  10  [[10, 10], [25, 25]]   \n",
              "19           2       10000  10  [[10, 10], [25, 25]]   \n",
              "20           2       10000  30  [[10, 10], [15, 15]]   \n",
              "21           2       10000  30  [[10, 10], [15, 15]]   \n",
              "22           2       10000  30  [[10, 10], [25, 25]]   \n",
              "23           2       10000  30  [[10, 10], [25, 25]]   \n",
              "\n",
              "                                 covarianzas    recall  precision  f1-score  \n",
              "0       [[[5, 0], [0, 5]], [[4, 0], [0, 4]]]  0.930000   0.931554  0.929937  \n",
              "1   [[[15, 0], [0, 15]], [[20, 0], [0, 20]]]  0.690000   0.690686  0.689721  \n",
              "2       [[[5, 0], [0, 5]], [[4, 0], [0, 4]]]  1.000000   1.000000  1.000000  \n",
              "3   [[[15, 0], [0, 15]], [[20, 0], [0, 20]]]  0.990000   0.990196  0.989999  \n",
              "4       [[[5, 0], [0, 5]], [[4, 0], [0, 4]]]  0.910000   0.910164  0.909991  \n",
              "5   [[[15, 0], [0, 15]], [[20, 0], [0, 20]]]  0.690000   0.693798  0.688474  \n",
              "6       [[[5, 0], [0, 5]], [[4, 0], [0, 4]]]  1.000000   1.000000  1.000000  \n",
              "7   [[[15, 0], [0, 15]], [[20, 0], [0, 20]]]  0.990000   0.990196  0.989999  \n",
              "8       [[[5, 0], [0, 5]], [[4, 0], [0, 4]]]  0.940000   0.940705  0.939976  \n",
              "9   [[[15, 0], [0, 15]], [[20, 0], [0, 20]]]  0.700000   0.705255  0.698068  \n",
              "10      [[[5, 0], [0, 5]], [[4, 0], [0, 4]]]  1.000000   1.000000  1.000000  \n",
              "11  [[[15, 0], [0, 15]], [[20, 0], [0, 20]]]  0.990000   0.990196  0.989999  \n",
              "12      [[[5, 0], [0, 5]], [[4, 0], [0, 4]]]  0.946393   0.946424  0.946398  \n",
              "13  [[[15, 0], [0, 15]], [[20, 0], [0, 20]]]  0.766874   0.767032  0.766859  \n",
              "14      [[[5, 0], [0, 5]], [[4, 0], [0, 4]]]  1.000000   1.000000  1.000000  \n",
              "15  [[[15, 0], [0, 15]], [[20, 0], [0, 20]]]  0.995400   0.995400  0.995400  \n",
              "16      [[[5, 0], [0, 5]], [[4, 0], [0, 4]]]  0.952688   0.952764  0.952697  \n",
              "17  [[[15, 0], [0, 15]], [[20, 0], [0, 20]]]  0.794687   0.797920  0.794218  \n",
              "18      [[[5, 0], [0, 5]], [[4, 0], [0, 4]]]  1.000000   1.000000  1.000000  \n",
              "19  [[[15, 0], [0, 15]], [[20, 0], [0, 20]]]  0.995799   0.995802  0.995800  \n",
              "20      [[[5, 0], [0, 5]], [[4, 0], [0, 4]]]  0.956099   0.956101  0.956100  \n",
              "21  [[[15, 0], [0, 15]], [[20, 0], [0, 20]]]  0.802947   0.803698  0.802867  \n",
              "22      [[[5, 0], [0, 5]], [[4, 0], [0, 4]]]  1.000000   1.000000  1.000000  \n",
              "23  [[[15, 0], [0, 15]], [[20, 0], [0, 20]]]  0.996200   0.996200  0.996200  "
            ],
            "text/html": [
              "\n",
              "  <div id=\"df-6e181aa0-c47d-4ed1-a047-7d565f2c65d2\">\n",
              "    <div class=\"colab-df-container\">\n",
              "      <div>\n",
              "<style scoped>\n",
              "    .dataframe tbody tr th:only-of-type {\n",
              "        vertical-align: middle;\n",
              "    }\n",
              "\n",
              "    .dataframe tbody tr th {\n",
              "        vertical-align: top;\n",
              "    }\n",
              "\n",
              "    .dataframe thead th {\n",
              "        text-align: right;\n",
              "    }\n",
              "</style>\n",
              "<table border=\"1\" class=\"dataframe\">\n",
              "  <thead>\n",
              "    <tr style=\"text-align: right;\">\n",
              "      <th></th>\n",
              "      <th>dimensiones</th>\n",
              "      <th>n_por_grupo</th>\n",
              "      <th>k</th>\n",
              "      <th>centroides</th>\n",
              "      <th>covarianzas</th>\n",
              "      <th>recall</th>\n",
              "      <th>precision</th>\n",
              "      <th>f1-score</th>\n",
              "    </tr>\n",
              "  </thead>\n",
              "  <tbody>\n",
              "    <tr>\n",
              "      <th>0</th>\n",
              "      <td>2</td>\n",
              "      <td>100</td>\n",
              "      <td>3</td>\n",
              "      <td>[[10, 10], [15, 15]]</td>\n",
              "      <td>[[[5, 0], [0, 5]], [[4, 0], [0, 4]]]</td>\n",
              "      <td>0.930000</td>\n",
              "      <td>0.931554</td>\n",
              "      <td>0.929937</td>\n",
              "    </tr>\n",
              "    <tr>\n",
              "      <th>1</th>\n",
              "      <td>2</td>\n",
              "      <td>100</td>\n",
              "      <td>3</td>\n",
              "      <td>[[10, 10], [15, 15]]</td>\n",
              "      <td>[[[15, 0], [0, 15]], [[20, 0], [0, 20]]]</td>\n",
              "      <td>0.690000</td>\n",
              "      <td>0.690686</td>\n",
              "      <td>0.689721</td>\n",
              "    </tr>\n",
              "    <tr>\n",
              "      <th>2</th>\n",
              "      <td>2</td>\n",
              "      <td>100</td>\n",
              "      <td>3</td>\n",
              "      <td>[[10, 10], [25, 25]]</td>\n",
              "      <td>[[[5, 0], [0, 5]], [[4, 0], [0, 4]]]</td>\n",
              "      <td>1.000000</td>\n",
              "      <td>1.000000</td>\n",
              "      <td>1.000000</td>\n",
              "    </tr>\n",
              "    <tr>\n",
              "      <th>3</th>\n",
              "      <td>2</td>\n",
              "      <td>100</td>\n",
              "      <td>3</td>\n",
              "      <td>[[10, 10], [25, 25]]</td>\n",
              "      <td>[[[15, 0], [0, 15]], [[20, 0], [0, 20]]]</td>\n",
              "      <td>0.990000</td>\n",
              "      <td>0.990196</td>\n",
              "      <td>0.989999</td>\n",
              "    </tr>\n",
              "    <tr>\n",
              "      <th>4</th>\n",
              "      <td>2</td>\n",
              "      <td>100</td>\n",
              "      <td>10</td>\n",
              "      <td>[[10, 10], [15, 15]]</td>\n",
              "      <td>[[[5, 0], [0, 5]], [[4, 0], [0, 4]]]</td>\n",
              "      <td>0.910000</td>\n",
              "      <td>0.910164</td>\n",
              "      <td>0.909991</td>\n",
              "    </tr>\n",
              "    <tr>\n",
              "      <th>5</th>\n",
              "      <td>2</td>\n",
              "      <td>100</td>\n",
              "      <td>10</td>\n",
              "      <td>[[10, 10], [15, 15]]</td>\n",
              "      <td>[[[15, 0], [0, 15]], [[20, 0], [0, 20]]]</td>\n",
              "      <td>0.690000</td>\n",
              "      <td>0.693798</td>\n",
              "      <td>0.688474</td>\n",
              "    </tr>\n",
              "    <tr>\n",
              "      <th>6</th>\n",
              "      <td>2</td>\n",
              "      <td>100</td>\n",
              "      <td>10</td>\n",
              "      <td>[[10, 10], [25, 25]]</td>\n",
              "      <td>[[[5, 0], [0, 5]], [[4, 0], [0, 4]]]</td>\n",
              "      <td>1.000000</td>\n",
              "      <td>1.000000</td>\n",
              "      <td>1.000000</td>\n",
              "    </tr>\n",
              "    <tr>\n",
              "      <th>7</th>\n",
              "      <td>2</td>\n",
              "      <td>100</td>\n",
              "      <td>10</td>\n",
              "      <td>[[10, 10], [25, 25]]</td>\n",
              "      <td>[[[15, 0], [0, 15]], [[20, 0], [0, 20]]]</td>\n",
              "      <td>0.990000</td>\n",
              "      <td>0.990196</td>\n",
              "      <td>0.989999</td>\n",
              "    </tr>\n",
              "    <tr>\n",
              "      <th>8</th>\n",
              "      <td>2</td>\n",
              "      <td>100</td>\n",
              "      <td>30</td>\n",
              "      <td>[[10, 10], [15, 15]]</td>\n",
              "      <td>[[[5, 0], [0, 5]], [[4, 0], [0, 4]]]</td>\n",
              "      <td>0.940000</td>\n",
              "      <td>0.940705</td>\n",
              "      <td>0.939976</td>\n",
              "    </tr>\n",
              "    <tr>\n",
              "      <th>9</th>\n",
              "      <td>2</td>\n",
              "      <td>100</td>\n",
              "      <td>30</td>\n",
              "      <td>[[10, 10], [15, 15]]</td>\n",
              "      <td>[[[15, 0], [0, 15]], [[20, 0], [0, 20]]]</td>\n",
              "      <td>0.700000</td>\n",
              "      <td>0.705255</td>\n",
              "      <td>0.698068</td>\n",
              "    </tr>\n",
              "    <tr>\n",
              "      <th>10</th>\n",
              "      <td>2</td>\n",
              "      <td>100</td>\n",
              "      <td>30</td>\n",
              "      <td>[[10, 10], [25, 25]]</td>\n",
              "      <td>[[[5, 0], [0, 5]], [[4, 0], [0, 4]]]</td>\n",
              "      <td>1.000000</td>\n",
              "      <td>1.000000</td>\n",
              "      <td>1.000000</td>\n",
              "    </tr>\n",
              "    <tr>\n",
              "      <th>11</th>\n",
              "      <td>2</td>\n",
              "      <td>100</td>\n",
              "      <td>30</td>\n",
              "      <td>[[10, 10], [25, 25]]</td>\n",
              "      <td>[[[15, 0], [0, 15]], [[20, 0], [0, 20]]]</td>\n",
              "      <td>0.990000</td>\n",
              "      <td>0.990196</td>\n",
              "      <td>0.989999</td>\n",
              "    </tr>\n",
              "    <tr>\n",
              "      <th>12</th>\n",
              "      <td>2</td>\n",
              "      <td>10000</td>\n",
              "      <td>3</td>\n",
              "      <td>[[10, 10], [15, 15]]</td>\n",
              "      <td>[[[5, 0], [0, 5]], [[4, 0], [0, 4]]]</td>\n",
              "      <td>0.946393</td>\n",
              "      <td>0.946424</td>\n",
              "      <td>0.946398</td>\n",
              "    </tr>\n",
              "    <tr>\n",
              "      <th>13</th>\n",
              "      <td>2</td>\n",
              "      <td>10000</td>\n",
              "      <td>3</td>\n",
              "      <td>[[10, 10], [15, 15]]</td>\n",
              "      <td>[[[15, 0], [0, 15]], [[20, 0], [0, 20]]]</td>\n",
              "      <td>0.766874</td>\n",
              "      <td>0.767032</td>\n",
              "      <td>0.766859</td>\n",
              "    </tr>\n",
              "    <tr>\n",
              "      <th>14</th>\n",
              "      <td>2</td>\n",
              "      <td>10000</td>\n",
              "      <td>3</td>\n",
              "      <td>[[10, 10], [25, 25]]</td>\n",
              "      <td>[[[5, 0], [0, 5]], [[4, 0], [0, 4]]]</td>\n",
              "      <td>1.000000</td>\n",
              "      <td>1.000000</td>\n",
              "      <td>1.000000</td>\n",
              "    </tr>\n",
              "    <tr>\n",
              "      <th>15</th>\n",
              "      <td>2</td>\n",
              "      <td>10000</td>\n",
              "      <td>3</td>\n",
              "      <td>[[10, 10], [25, 25]]</td>\n",
              "      <td>[[[15, 0], [0, 15]], [[20, 0], [0, 20]]]</td>\n",
              "      <td>0.995400</td>\n",
              "      <td>0.995400</td>\n",
              "      <td>0.995400</td>\n",
              "    </tr>\n",
              "    <tr>\n",
              "      <th>16</th>\n",
              "      <td>2</td>\n",
              "      <td>10000</td>\n",
              "      <td>10</td>\n",
              "      <td>[[10, 10], [15, 15]]</td>\n",
              "      <td>[[[5, 0], [0, 5]], [[4, 0], [0, 4]]]</td>\n",
              "      <td>0.952688</td>\n",
              "      <td>0.952764</td>\n",
              "      <td>0.952697</td>\n",
              "    </tr>\n",
              "    <tr>\n",
              "      <th>17</th>\n",
              "      <td>2</td>\n",
              "      <td>10000</td>\n",
              "      <td>10</td>\n",
              "      <td>[[10, 10], [15, 15]]</td>\n",
              "      <td>[[[15, 0], [0, 15]], [[20, 0], [0, 20]]]</td>\n",
              "      <td>0.794687</td>\n",
              "      <td>0.797920</td>\n",
              "      <td>0.794218</td>\n",
              "    </tr>\n",
              "    <tr>\n",
              "      <th>18</th>\n",
              "      <td>2</td>\n",
              "      <td>10000</td>\n",
              "      <td>10</td>\n",
              "      <td>[[10, 10], [25, 25]]</td>\n",
              "      <td>[[[5, 0], [0, 5]], [[4, 0], [0, 4]]]</td>\n",
              "      <td>1.000000</td>\n",
              "      <td>1.000000</td>\n",
              "      <td>1.000000</td>\n",
              "    </tr>\n",
              "    <tr>\n",
              "      <th>19</th>\n",
              "      <td>2</td>\n",
              "      <td>10000</td>\n",
              "      <td>10</td>\n",
              "      <td>[[10, 10], [25, 25]]</td>\n",
              "      <td>[[[15, 0], [0, 15]], [[20, 0], [0, 20]]]</td>\n",
              "      <td>0.995799</td>\n",
              "      <td>0.995802</td>\n",
              "      <td>0.995800</td>\n",
              "    </tr>\n",
              "    <tr>\n",
              "      <th>20</th>\n",
              "      <td>2</td>\n",
              "      <td>10000</td>\n",
              "      <td>30</td>\n",
              "      <td>[[10, 10], [15, 15]]</td>\n",
              "      <td>[[[5, 0], [0, 5]], [[4, 0], [0, 4]]]</td>\n",
              "      <td>0.956099</td>\n",
              "      <td>0.956101</td>\n",
              "      <td>0.956100</td>\n",
              "    </tr>\n",
              "    <tr>\n",
              "      <th>21</th>\n",
              "      <td>2</td>\n",
              "      <td>10000</td>\n",
              "      <td>30</td>\n",
              "      <td>[[10, 10], [15, 15]]</td>\n",
              "      <td>[[[15, 0], [0, 15]], [[20, 0], [0, 20]]]</td>\n",
              "      <td>0.802947</td>\n",
              "      <td>0.803698</td>\n",
              "      <td>0.802867</td>\n",
              "    </tr>\n",
              "    <tr>\n",
              "      <th>22</th>\n",
              "      <td>2</td>\n",
              "      <td>10000</td>\n",
              "      <td>30</td>\n",
              "      <td>[[10, 10], [25, 25]]</td>\n",
              "      <td>[[[5, 0], [0, 5]], [[4, 0], [0, 4]]]</td>\n",
              "      <td>1.000000</td>\n",
              "      <td>1.000000</td>\n",
              "      <td>1.000000</td>\n",
              "    </tr>\n",
              "    <tr>\n",
              "      <th>23</th>\n",
              "      <td>2</td>\n",
              "      <td>10000</td>\n",
              "      <td>30</td>\n",
              "      <td>[[10, 10], [25, 25]]</td>\n",
              "      <td>[[[15, 0], [0, 15]], [[20, 0], [0, 20]]]</td>\n",
              "      <td>0.996200</td>\n",
              "      <td>0.996200</td>\n",
              "      <td>0.996200</td>\n",
              "    </tr>\n",
              "  </tbody>\n",
              "</table>\n",
              "</div>\n",
              "      <button class=\"colab-df-convert\" onclick=\"convertToInteractive('df-6e181aa0-c47d-4ed1-a047-7d565f2c65d2')\"\n",
              "              title=\"Convert this dataframe to an interactive table.\"\n",
              "              style=\"display:none;\">\n",
              "        \n",
              "  <svg xmlns=\"http://www.w3.org/2000/svg\" height=\"24px\"viewBox=\"0 0 24 24\"\n",
              "       width=\"24px\">\n",
              "    <path d=\"M0 0h24v24H0V0z\" fill=\"none\"/>\n",
              "    <path d=\"M18.56 5.44l.94 2.06.94-2.06 2.06-.94-2.06-.94-.94-2.06-.94 2.06-2.06.94zm-11 1L8.5 8.5l.94-2.06 2.06-.94-2.06-.94L8.5 2.5l-.94 2.06-2.06.94zm10 10l.94 2.06.94-2.06 2.06-.94-2.06-.94-.94-2.06-.94 2.06-2.06.94z\"/><path d=\"M17.41 7.96l-1.37-1.37c-.4-.4-.92-.59-1.43-.59-.52 0-1.04.2-1.43.59L10.3 9.45l-7.72 7.72c-.78.78-.78 2.05 0 2.83L4 21.41c.39.39.9.59 1.41.59.51 0 1.02-.2 1.41-.59l7.78-7.78 2.81-2.81c.8-.78.8-2.07 0-2.86zM5.41 20L4 18.59l7.72-7.72 1.47 1.35L5.41 20z\"/>\n",
              "  </svg>\n",
              "      </button>\n",
              "      \n",
              "  <style>\n",
              "    .colab-df-container {\n",
              "      display:flex;\n",
              "      flex-wrap:wrap;\n",
              "      gap: 12px;\n",
              "    }\n",
              "\n",
              "    .colab-df-convert {\n",
              "      background-color: #E8F0FE;\n",
              "      border: none;\n",
              "      border-radius: 50%;\n",
              "      cursor: pointer;\n",
              "      display: none;\n",
              "      fill: #1967D2;\n",
              "      height: 32px;\n",
              "      padding: 0 0 0 0;\n",
              "      width: 32px;\n",
              "    }\n",
              "\n",
              "    .colab-df-convert:hover {\n",
              "      background-color: #E2EBFA;\n",
              "      box-shadow: 0px 1px 2px rgba(60, 64, 67, 0.3), 0px 1px 3px 1px rgba(60, 64, 67, 0.15);\n",
              "      fill: #174EA6;\n",
              "    }\n",
              "\n",
              "    [theme=dark] .colab-df-convert {\n",
              "      background-color: #3B4455;\n",
              "      fill: #D2E3FC;\n",
              "    }\n",
              "\n",
              "    [theme=dark] .colab-df-convert:hover {\n",
              "      background-color: #434B5C;\n",
              "      box-shadow: 0px 1px 3px 1px rgba(0, 0, 0, 0.15);\n",
              "      filter: drop-shadow(0px 1px 2px rgba(0, 0, 0, 0.3));\n",
              "      fill: #FFFFFF;\n",
              "    }\n",
              "  </style>\n",
              "\n",
              "      <script>\n",
              "        const buttonEl =\n",
              "          document.querySelector('#df-6e181aa0-c47d-4ed1-a047-7d565f2c65d2 button.colab-df-convert');\n",
              "        buttonEl.style.display =\n",
              "          google.colab.kernel.accessAllowed ? 'block' : 'none';\n",
              "\n",
              "        async function convertToInteractive(key) {\n",
              "          const element = document.querySelector('#df-6e181aa0-c47d-4ed1-a047-7d565f2c65d2');\n",
              "          const dataTable =\n",
              "            await google.colab.kernel.invokeFunction('convertToInteractive',\n",
              "                                                     [key], {});\n",
              "          if (!dataTable) return;\n",
              "\n",
              "          const docLinkHtml = 'Like what you see? Visit the ' +\n",
              "            '<a target=\"_blank\" href=https://colab.research.google.com/notebooks/data_table.ipynb>data table notebook</a>'\n",
              "            + ' to learn more about interactive tables.';\n",
              "          element.innerHTML = '';\n",
              "          dataTable['output_type'] = 'display_data';\n",
              "          await google.colab.output.renderOutput(dataTable, element);\n",
              "          const docLink = document.createElement('div');\n",
              "          docLink.innerHTML = docLinkHtml;\n",
              "          element.appendChild(docLink);\n",
              "        }\n",
              "      </script>\n",
              "    </div>\n",
              "  </div>\n",
              "  "
            ]
          },
          "metadata": {},
          "execution_count": 73
        }
      ]
    },
    {
      "cell_type": "markdown",
      "source": [
        "### Experimentos con más de 2 dimensions"
      ],
      "metadata": {
        "id": "tAIet2RgDZoJ"
      }
    },
    {
      "cell_type": "code",
      "source": [
        "etiquetas = ['grupo_A', 'grupo_B']\n",
        "dim = 3\n",
        "valores_N = [100, 10000]\n",
        "valores_k = [3, 10, 30]\n",
        "valores_centroides = [[[10, 10, 10], [15, 15, 15]], # Dos centroides relativamente cercanos entre sí.\n",
        "                      [[10, 10, 10], [25, 25, 25]]] # Dos centroides más alejados.\n",
        "valores_covarianzas = [[[[5, 0, 0], [0, 5, 0], [0, 0, 5]], # Covarianzas relativamente bajas.\n",
        "                        [[4, 0, 0], [0, 4, 0], [0, 0, 4]]],\n",
        "                       [[[15, 0, 0], [0, 15, 0], [0, 0, 15]], # Covarianzas relativamente altas.\n",
        "                        [[20, 0, 0], [0, 20, 0], [0, 0, 20]]]]"
      ],
      "metadata": {
        "id": "y7ojEFzhFByT"
      },
      "execution_count": 11,
      "outputs": []
    },
    {
      "cell_type": "code",
      "source": [
        "for n in valores_N:\n",
        "  for k in valores_k:\n",
        "    for centroides in valores_centroides:\n",
        "      for covarianzas in valores_covarianzas:\n",
        "\n",
        "        prueba = {}\n",
        "\n",
        "        prueba['dimensiones'] = [dim]\n",
        "\n",
        "        prueba['n_por_grupo'] = [n]\n",
        "\n",
        "        prueba['k'] = [k]\n",
        "\n",
        "        prueba['centroides'] = [centroides]\n",
        "\n",
        "        prueba['covarianzas'] = [covarianzas]\n",
        "\n",
        "        dataset = crear_dataset_balanceado(etiquetas = etiquetas,\n",
        "                                           datos_por_grupo = n,\n",
        "                                           dimensiones = dim,\n",
        "                                           centroides = centroides,\n",
        "                                           covarianzas = covarianzas)\n",
        "\n",
        "        training_set, test_set = train_test_split(dataset, test_size=0.5)\n",
        "\n",
        "        X = training_set.loc[:, training_set.columns != 'etiqueta']\n",
        "\n",
        "        y = training_set['etiqueta']\n",
        "\n",
        "        knn = neighbors.KNeighborsClassifier(n_neighbors = k)\n",
        "\n",
        "        knn.fit(X, y)\n",
        "\n",
        "        X_test = test_set.loc[:, test_set.columns != 'etiqueta']\n",
        "\n",
        "        predicciones = knn.predict(X_test)\n",
        "\n",
        "        report = classification_report(test_set['etiqueta'], predicciones, output_dict = True)['macro avg']\n",
        "        \n",
        "        prueba['recall'] = [report['recall']]\n",
        "\n",
        "        prueba['precision'] = [report['precision']]\n",
        "\n",
        "        prueba['f1-score'] = [report['f1-score']]\n",
        "        \n",
        "        resultado_prueba = pd.DataFrame.from_dict(prueba)\n",
        "\n",
        "        resultados = pd.concat([resultados, resultado_prueba], ignore_index = True)"
      ],
      "metadata": {
        "id": "BYLUC4qGE3XQ"
      },
      "execution_count": 12,
      "outputs": []
    },
    {
      "cell_type": "markdown",
      "source": [
        "Con tres dimensiones se observa algo similar a los resultados con dos dimensiones. Las métricas más bajas se dan en los casos con centroides más cercanos entre sí y mayores covarianzas. De entre estos casos, el valor más bajo de f1 corresponde a los valores n_por_grupo = 100 y k = 30. "
      ],
      "metadata": {
        "id": "VDUzqwgYGQvS"
      }
    },
    {
      "cell_type": "code",
      "source": [
        "resultados[resultados['dimensiones'] == 3]"
      ],
      "metadata": {
        "colab": {
          "base_uri": "https://localhost:8080/",
          "height": 802
        },
        "id": "XrCrwHpOFBGt",
        "outputId": "4e87bfaf-b56d-41e4-da85-9575cd30041a"
      },
      "execution_count": null,
      "outputs": [
        {
          "output_type": "execute_result",
          "data": {
            "text/plain": [
              "   dimensiones n_por_grupo   k                    centroides  \\\n",
              "24           3         100   3  [[10, 10, 10], [15, 15, 15]]   \n",
              "25           3         100   3  [[10, 10, 10], [15, 15, 15]]   \n",
              "26           3         100   3  [[10, 10, 10], [25, 25, 25]]   \n",
              "27           3         100   3  [[10, 10, 10], [25, 25, 25]]   \n",
              "28           3         100  10  [[10, 10, 10], [15, 15, 15]]   \n",
              "29           3         100  10  [[10, 10, 10], [15, 15, 15]]   \n",
              "30           3         100  10  [[10, 10, 10], [25, 25, 25]]   \n",
              "31           3         100  10  [[10, 10, 10], [25, 25, 25]]   \n",
              "32           3         100  30  [[10, 10, 10], [15, 15, 15]]   \n",
              "33           3         100  30  [[10, 10, 10], [15, 15, 15]]   \n",
              "34           3         100  30  [[10, 10, 10], [25, 25, 25]]   \n",
              "35           3         100  30  [[10, 10, 10], [25, 25, 25]]   \n",
              "36           3       10000   3  [[10, 10, 10], [15, 15, 15]]   \n",
              "37           3       10000   3  [[10, 10, 10], [15, 15, 15]]   \n",
              "38           3       10000   3  [[10, 10, 10], [25, 25, 25]]   \n",
              "39           3       10000   3  [[10, 10, 10], [25, 25, 25]]   \n",
              "40           3       10000  10  [[10, 10, 10], [15, 15, 15]]   \n",
              "41           3       10000  10  [[10, 10, 10], [15, 15, 15]]   \n",
              "42           3       10000  10  [[10, 10, 10], [25, 25, 25]]   \n",
              "43           3       10000  10  [[10, 10, 10], [25, 25, 25]]   \n",
              "44           3       10000  30  [[10, 10, 10], [15, 15, 15]]   \n",
              "45           3       10000  30  [[10, 10, 10], [15, 15, 15]]   \n",
              "46           3       10000  30  [[10, 10, 10], [25, 25, 25]]   \n",
              "47           3       10000  30  [[10, 10, 10], [25, 25, 25]]   \n",
              "\n",
              "                                          covarianzas    recall  precision  \\\n",
              "24  [[[5, 0, 0], [0, 5, 0], [0, 0, 5]], [[4, 0, 0]...  0.962963   0.960000   \n",
              "25  [[[15, 0, 0], [0, 15, 0], [0, 0, 15]], [[20, 0...  0.861111   0.877049   \n",
              "26  [[[5, 0, 0], [0, 5, 0], [0, 0, 5]], [[4, 0, 0]...  1.000000   1.000000   \n",
              "27  [[[15, 0, 0], [0, 15, 0], [0, 0, 15]], [[20, 0...  1.000000   1.000000   \n",
              "28  [[[5, 0, 0], [0, 5, 0], [0, 0, 5]], [[4, 0, 0]...  0.962963   0.960000   \n",
              "29  [[[15, 0, 0], [0, 15, 0], [0, 0, 15]], [[20, 0...  0.842593   0.865079   \n",
              "30  [[[5, 0, 0], [0, 5, 0], [0, 0, 5]], [[4, 0, 0]...  1.000000   1.000000   \n",
              "31  [[[15, 0, 0], [0, 15, 0], [0, 0, 15]], [[20, 0...  1.000000   1.000000   \n",
              "32  [[[5, 0, 0], [0, 5, 0], [0, 0, 5]], [[4, 0, 0]...  0.981481   0.979167   \n",
              "33  [[[15, 0, 0], [0, 15, 0], [0, 0, 15]], [[20, 0...  0.794686   0.826203   \n",
              "34  [[[5, 0, 0], [0, 5, 0], [0, 0, 5]], [[4, 0, 0]...  1.000000   1.000000   \n",
              "35  [[[15, 0, 0], [0, 15, 0], [0, 0, 15]], [[20, 0...  1.000000   1.000000   \n",
              "36  [[[5, 0, 0], [0, 5, 0], [0, 0, 5]], [[4, 0, 0]...  0.975612   0.975590   \n",
              "37  [[[15, 0, 0], [0, 15, 0], [0, 0, 15]], [[20, 0...  0.828672   0.828695   \n",
              "38  [[[5, 0, 0], [0, 5, 0], [0, 0, 5]], [[4, 0, 0]...  1.000000   1.000000   \n",
              "39  [[[15, 0, 0], [0, 15, 0], [0, 0, 15]], [[20, 0...  0.999296   0.999305   \n",
              "40  [[[5, 0, 0], [0, 5, 0], [0, 0, 5]], [[4, 0, 0]...  0.980604   0.980594   \n",
              "41  [[[15, 0, 0], [0, 15, 0], [0, 0, 15]], [[20, 0...  0.848664   0.849888   \n",
              "42  [[[5, 0, 0], [0, 5, 0], [0, 0, 5]], [[4, 0, 0]...  1.000000   1.000000   \n",
              "43  [[[15, 0, 0], [0, 15, 0], [0, 0, 15]], [[20, 0...  0.999195   0.999206   \n",
              "44  [[[5, 0, 0], [0, 5, 0], [0, 0, 5]], [[4, 0, 0]...  0.980717   0.980690   \n",
              "45  [[[15, 0, 0], [0, 15, 0], [0, 0, 15]], [[20, 0...  0.855623   0.856363   \n",
              "46  [[[5, 0, 0], [0, 5, 0], [0, 0, 5]], [[4, 0, 0]...  1.000000   1.000000   \n",
              "47  [[[15, 0, 0], [0, 15, 0], [0, 0, 15]], [[20, 0...  0.999195   0.999206   \n",
              "\n",
              "    f1-score  \n",
              "24  0.959936  \n",
              "25  0.849261  \n",
              "26  1.000000  \n",
              "27  1.000000  \n",
              "28  0.959936  \n",
              "29  0.828612  \n",
              "30  1.000000  \n",
              "31  1.000000  \n",
              "32  0.979928  \n",
              "33  0.776786  \n",
              "34  1.000000  \n",
              "35  1.000000  \n",
              "36  0.975599  \n",
              "37  0.828681  \n",
              "38  1.000000  \n",
              "39  0.999300  \n",
              "40  0.980599  \n",
              "41  0.848722  \n",
              "42  1.000000  \n",
              "43  0.999200  \n",
              "44  0.980699  \n",
              "45  0.855690  \n",
              "46  1.000000  \n",
              "47  0.999200  "
            ],
            "text/html": [
              "\n",
              "  <div id=\"df-9b3981e4-5ae9-4e85-a288-cb845cf459e6\">\n",
              "    <div class=\"colab-df-container\">\n",
              "      <div>\n",
              "<style scoped>\n",
              "    .dataframe tbody tr th:only-of-type {\n",
              "        vertical-align: middle;\n",
              "    }\n",
              "\n",
              "    .dataframe tbody tr th {\n",
              "        vertical-align: top;\n",
              "    }\n",
              "\n",
              "    .dataframe thead th {\n",
              "        text-align: right;\n",
              "    }\n",
              "</style>\n",
              "<table border=\"1\" class=\"dataframe\">\n",
              "  <thead>\n",
              "    <tr style=\"text-align: right;\">\n",
              "      <th></th>\n",
              "      <th>dimensiones</th>\n",
              "      <th>n_por_grupo</th>\n",
              "      <th>k</th>\n",
              "      <th>centroides</th>\n",
              "      <th>covarianzas</th>\n",
              "      <th>recall</th>\n",
              "      <th>precision</th>\n",
              "      <th>f1-score</th>\n",
              "    </tr>\n",
              "  </thead>\n",
              "  <tbody>\n",
              "    <tr>\n",
              "      <th>24</th>\n",
              "      <td>3</td>\n",
              "      <td>100</td>\n",
              "      <td>3</td>\n",
              "      <td>[[10, 10, 10], [15, 15, 15]]</td>\n",
              "      <td>[[[5, 0, 0], [0, 5, 0], [0, 0, 5]], [[4, 0, 0]...</td>\n",
              "      <td>0.962963</td>\n",
              "      <td>0.960000</td>\n",
              "      <td>0.959936</td>\n",
              "    </tr>\n",
              "    <tr>\n",
              "      <th>25</th>\n",
              "      <td>3</td>\n",
              "      <td>100</td>\n",
              "      <td>3</td>\n",
              "      <td>[[10, 10, 10], [15, 15, 15]]</td>\n",
              "      <td>[[[15, 0, 0], [0, 15, 0], [0, 0, 15]], [[20, 0...</td>\n",
              "      <td>0.861111</td>\n",
              "      <td>0.877049</td>\n",
              "      <td>0.849261</td>\n",
              "    </tr>\n",
              "    <tr>\n",
              "      <th>26</th>\n",
              "      <td>3</td>\n",
              "      <td>100</td>\n",
              "      <td>3</td>\n",
              "      <td>[[10, 10, 10], [25, 25, 25]]</td>\n",
              "      <td>[[[5, 0, 0], [0, 5, 0], [0, 0, 5]], [[4, 0, 0]...</td>\n",
              "      <td>1.000000</td>\n",
              "      <td>1.000000</td>\n",
              "      <td>1.000000</td>\n",
              "    </tr>\n",
              "    <tr>\n",
              "      <th>27</th>\n",
              "      <td>3</td>\n",
              "      <td>100</td>\n",
              "      <td>3</td>\n",
              "      <td>[[10, 10, 10], [25, 25, 25]]</td>\n",
              "      <td>[[[15, 0, 0], [0, 15, 0], [0, 0, 15]], [[20, 0...</td>\n",
              "      <td>1.000000</td>\n",
              "      <td>1.000000</td>\n",
              "      <td>1.000000</td>\n",
              "    </tr>\n",
              "    <tr>\n",
              "      <th>28</th>\n",
              "      <td>3</td>\n",
              "      <td>100</td>\n",
              "      <td>10</td>\n",
              "      <td>[[10, 10, 10], [15, 15, 15]]</td>\n",
              "      <td>[[[5, 0, 0], [0, 5, 0], [0, 0, 5]], [[4, 0, 0]...</td>\n",
              "      <td>0.962963</td>\n",
              "      <td>0.960000</td>\n",
              "      <td>0.959936</td>\n",
              "    </tr>\n",
              "    <tr>\n",
              "      <th>29</th>\n",
              "      <td>3</td>\n",
              "      <td>100</td>\n",
              "      <td>10</td>\n",
              "      <td>[[10, 10, 10], [15, 15, 15]]</td>\n",
              "      <td>[[[15, 0, 0], [0, 15, 0], [0, 0, 15]], [[20, 0...</td>\n",
              "      <td>0.842593</td>\n",
              "      <td>0.865079</td>\n",
              "      <td>0.828612</td>\n",
              "    </tr>\n",
              "    <tr>\n",
              "      <th>30</th>\n",
              "      <td>3</td>\n",
              "      <td>100</td>\n",
              "      <td>10</td>\n",
              "      <td>[[10, 10, 10], [25, 25, 25]]</td>\n",
              "      <td>[[[5, 0, 0], [0, 5, 0], [0, 0, 5]], [[4, 0, 0]...</td>\n",
              "      <td>1.000000</td>\n",
              "      <td>1.000000</td>\n",
              "      <td>1.000000</td>\n",
              "    </tr>\n",
              "    <tr>\n",
              "      <th>31</th>\n",
              "      <td>3</td>\n",
              "      <td>100</td>\n",
              "      <td>10</td>\n",
              "      <td>[[10, 10, 10], [25, 25, 25]]</td>\n",
              "      <td>[[[15, 0, 0], [0, 15, 0], [0, 0, 15]], [[20, 0...</td>\n",
              "      <td>1.000000</td>\n",
              "      <td>1.000000</td>\n",
              "      <td>1.000000</td>\n",
              "    </tr>\n",
              "    <tr>\n",
              "      <th>32</th>\n",
              "      <td>3</td>\n",
              "      <td>100</td>\n",
              "      <td>30</td>\n",
              "      <td>[[10, 10, 10], [15, 15, 15]]</td>\n",
              "      <td>[[[5, 0, 0], [0, 5, 0], [0, 0, 5]], [[4, 0, 0]...</td>\n",
              "      <td>0.981481</td>\n",
              "      <td>0.979167</td>\n",
              "      <td>0.979928</td>\n",
              "    </tr>\n",
              "    <tr>\n",
              "      <th>33</th>\n",
              "      <td>3</td>\n",
              "      <td>100</td>\n",
              "      <td>30</td>\n",
              "      <td>[[10, 10, 10], [15, 15, 15]]</td>\n",
              "      <td>[[[15, 0, 0], [0, 15, 0], [0, 0, 15]], [[20, 0...</td>\n",
              "      <td>0.794686</td>\n",
              "      <td>0.826203</td>\n",
              "      <td>0.776786</td>\n",
              "    </tr>\n",
              "    <tr>\n",
              "      <th>34</th>\n",
              "      <td>3</td>\n",
              "      <td>100</td>\n",
              "      <td>30</td>\n",
              "      <td>[[10, 10, 10], [25, 25, 25]]</td>\n",
              "      <td>[[[5, 0, 0], [0, 5, 0], [0, 0, 5]], [[4, 0, 0]...</td>\n",
              "      <td>1.000000</td>\n",
              "      <td>1.000000</td>\n",
              "      <td>1.000000</td>\n",
              "    </tr>\n",
              "    <tr>\n",
              "      <th>35</th>\n",
              "      <td>3</td>\n",
              "      <td>100</td>\n",
              "      <td>30</td>\n",
              "      <td>[[10, 10, 10], [25, 25, 25]]</td>\n",
              "      <td>[[[15, 0, 0], [0, 15, 0], [0, 0, 15]], [[20, 0...</td>\n",
              "      <td>1.000000</td>\n",
              "      <td>1.000000</td>\n",
              "      <td>1.000000</td>\n",
              "    </tr>\n",
              "    <tr>\n",
              "      <th>36</th>\n",
              "      <td>3</td>\n",
              "      <td>10000</td>\n",
              "      <td>3</td>\n",
              "      <td>[[10, 10, 10], [15, 15, 15]]</td>\n",
              "      <td>[[[5, 0, 0], [0, 5, 0], [0, 0, 5]], [[4, 0, 0]...</td>\n",
              "      <td>0.975612</td>\n",
              "      <td>0.975590</td>\n",
              "      <td>0.975599</td>\n",
              "    </tr>\n",
              "    <tr>\n",
              "      <th>37</th>\n",
              "      <td>3</td>\n",
              "      <td>10000</td>\n",
              "      <td>3</td>\n",
              "      <td>[[10, 10, 10], [15, 15, 15]]</td>\n",
              "      <td>[[[15, 0, 0], [0, 15, 0], [0, 0, 15]], [[20, 0...</td>\n",
              "      <td>0.828672</td>\n",
              "      <td>0.828695</td>\n",
              "      <td>0.828681</td>\n",
              "    </tr>\n",
              "    <tr>\n",
              "      <th>38</th>\n",
              "      <td>3</td>\n",
              "      <td>10000</td>\n",
              "      <td>3</td>\n",
              "      <td>[[10, 10, 10], [25, 25, 25]]</td>\n",
              "      <td>[[[5, 0, 0], [0, 5, 0], [0, 0, 5]], [[4, 0, 0]...</td>\n",
              "      <td>1.000000</td>\n",
              "      <td>1.000000</td>\n",
              "      <td>1.000000</td>\n",
              "    </tr>\n",
              "    <tr>\n",
              "      <th>39</th>\n",
              "      <td>3</td>\n",
              "      <td>10000</td>\n",
              "      <td>3</td>\n",
              "      <td>[[10, 10, 10], [25, 25, 25]]</td>\n",
              "      <td>[[[15, 0, 0], [0, 15, 0], [0, 0, 15]], [[20, 0...</td>\n",
              "      <td>0.999296</td>\n",
              "      <td>0.999305</td>\n",
              "      <td>0.999300</td>\n",
              "    </tr>\n",
              "    <tr>\n",
              "      <th>40</th>\n",
              "      <td>3</td>\n",
              "      <td>10000</td>\n",
              "      <td>10</td>\n",
              "      <td>[[10, 10, 10], [15, 15, 15]]</td>\n",
              "      <td>[[[5, 0, 0], [0, 5, 0], [0, 0, 5]], [[4, 0, 0]...</td>\n",
              "      <td>0.980604</td>\n",
              "      <td>0.980594</td>\n",
              "      <td>0.980599</td>\n",
              "    </tr>\n",
              "    <tr>\n",
              "      <th>41</th>\n",
              "      <td>3</td>\n",
              "      <td>10000</td>\n",
              "      <td>10</td>\n",
              "      <td>[[10, 10, 10], [15, 15, 15]]</td>\n",
              "      <td>[[[15, 0, 0], [0, 15, 0], [0, 0, 15]], [[20, 0...</td>\n",
              "      <td>0.848664</td>\n",
              "      <td>0.849888</td>\n",
              "      <td>0.848722</td>\n",
              "    </tr>\n",
              "    <tr>\n",
              "      <th>42</th>\n",
              "      <td>3</td>\n",
              "      <td>10000</td>\n",
              "      <td>10</td>\n",
              "      <td>[[10, 10, 10], [25, 25, 25]]</td>\n",
              "      <td>[[[5, 0, 0], [0, 5, 0], [0, 0, 5]], [[4, 0, 0]...</td>\n",
              "      <td>1.000000</td>\n",
              "      <td>1.000000</td>\n",
              "      <td>1.000000</td>\n",
              "    </tr>\n",
              "    <tr>\n",
              "      <th>43</th>\n",
              "      <td>3</td>\n",
              "      <td>10000</td>\n",
              "      <td>10</td>\n",
              "      <td>[[10, 10, 10], [25, 25, 25]]</td>\n",
              "      <td>[[[15, 0, 0], [0, 15, 0], [0, 0, 15]], [[20, 0...</td>\n",
              "      <td>0.999195</td>\n",
              "      <td>0.999206</td>\n",
              "      <td>0.999200</td>\n",
              "    </tr>\n",
              "    <tr>\n",
              "      <th>44</th>\n",
              "      <td>3</td>\n",
              "      <td>10000</td>\n",
              "      <td>30</td>\n",
              "      <td>[[10, 10, 10], [15, 15, 15]]</td>\n",
              "      <td>[[[5, 0, 0], [0, 5, 0], [0, 0, 5]], [[4, 0, 0]...</td>\n",
              "      <td>0.980717</td>\n",
              "      <td>0.980690</td>\n",
              "      <td>0.980699</td>\n",
              "    </tr>\n",
              "    <tr>\n",
              "      <th>45</th>\n",
              "      <td>3</td>\n",
              "      <td>10000</td>\n",
              "      <td>30</td>\n",
              "      <td>[[10, 10, 10], [15, 15, 15]]</td>\n",
              "      <td>[[[15, 0, 0], [0, 15, 0], [0, 0, 15]], [[20, 0...</td>\n",
              "      <td>0.855623</td>\n",
              "      <td>0.856363</td>\n",
              "      <td>0.855690</td>\n",
              "    </tr>\n",
              "    <tr>\n",
              "      <th>46</th>\n",
              "      <td>3</td>\n",
              "      <td>10000</td>\n",
              "      <td>30</td>\n",
              "      <td>[[10, 10, 10], [25, 25, 25]]</td>\n",
              "      <td>[[[5, 0, 0], [0, 5, 0], [0, 0, 5]], [[4, 0, 0]...</td>\n",
              "      <td>1.000000</td>\n",
              "      <td>1.000000</td>\n",
              "      <td>1.000000</td>\n",
              "    </tr>\n",
              "    <tr>\n",
              "      <th>47</th>\n",
              "      <td>3</td>\n",
              "      <td>10000</td>\n",
              "      <td>30</td>\n",
              "      <td>[[10, 10, 10], [25, 25, 25]]</td>\n",
              "      <td>[[[15, 0, 0], [0, 15, 0], [0, 0, 15]], [[20, 0...</td>\n",
              "      <td>0.999195</td>\n",
              "      <td>0.999206</td>\n",
              "      <td>0.999200</td>\n",
              "    </tr>\n",
              "  </tbody>\n",
              "</table>\n",
              "</div>\n",
              "      <button class=\"colab-df-convert\" onclick=\"convertToInteractive('df-9b3981e4-5ae9-4e85-a288-cb845cf459e6')\"\n",
              "              title=\"Convert this dataframe to an interactive table.\"\n",
              "              style=\"display:none;\">\n",
              "        \n",
              "  <svg xmlns=\"http://www.w3.org/2000/svg\" height=\"24px\"viewBox=\"0 0 24 24\"\n",
              "       width=\"24px\">\n",
              "    <path d=\"M0 0h24v24H0V0z\" fill=\"none\"/>\n",
              "    <path d=\"M18.56 5.44l.94 2.06.94-2.06 2.06-.94-2.06-.94-.94-2.06-.94 2.06-2.06.94zm-11 1L8.5 8.5l.94-2.06 2.06-.94-2.06-.94L8.5 2.5l-.94 2.06-2.06.94zm10 10l.94 2.06.94-2.06 2.06-.94-2.06-.94-.94-2.06-.94 2.06-2.06.94z\"/><path d=\"M17.41 7.96l-1.37-1.37c-.4-.4-.92-.59-1.43-.59-.52 0-1.04.2-1.43.59L10.3 9.45l-7.72 7.72c-.78.78-.78 2.05 0 2.83L4 21.41c.39.39.9.59 1.41.59.51 0 1.02-.2 1.41-.59l7.78-7.78 2.81-2.81c.8-.78.8-2.07 0-2.86zM5.41 20L4 18.59l7.72-7.72 1.47 1.35L5.41 20z\"/>\n",
              "  </svg>\n",
              "      </button>\n",
              "      \n",
              "  <style>\n",
              "    .colab-df-container {\n",
              "      display:flex;\n",
              "      flex-wrap:wrap;\n",
              "      gap: 12px;\n",
              "    }\n",
              "\n",
              "    .colab-df-convert {\n",
              "      background-color: #E8F0FE;\n",
              "      border: none;\n",
              "      border-radius: 50%;\n",
              "      cursor: pointer;\n",
              "      display: none;\n",
              "      fill: #1967D2;\n",
              "      height: 32px;\n",
              "      padding: 0 0 0 0;\n",
              "      width: 32px;\n",
              "    }\n",
              "\n",
              "    .colab-df-convert:hover {\n",
              "      background-color: #E2EBFA;\n",
              "      box-shadow: 0px 1px 2px rgba(60, 64, 67, 0.3), 0px 1px 3px 1px rgba(60, 64, 67, 0.15);\n",
              "      fill: #174EA6;\n",
              "    }\n",
              "\n",
              "    [theme=dark] .colab-df-convert {\n",
              "      background-color: #3B4455;\n",
              "      fill: #D2E3FC;\n",
              "    }\n",
              "\n",
              "    [theme=dark] .colab-df-convert:hover {\n",
              "      background-color: #434B5C;\n",
              "      box-shadow: 0px 1px 3px 1px rgba(0, 0, 0, 0.15);\n",
              "      filter: drop-shadow(0px 1px 2px rgba(0, 0, 0, 0.3));\n",
              "      fill: #FFFFFF;\n",
              "    }\n",
              "  </style>\n",
              "\n",
              "      <script>\n",
              "        const buttonEl =\n",
              "          document.querySelector('#df-9b3981e4-5ae9-4e85-a288-cb845cf459e6 button.colab-df-convert');\n",
              "        buttonEl.style.display =\n",
              "          google.colab.kernel.accessAllowed ? 'block' : 'none';\n",
              "\n",
              "        async function convertToInteractive(key) {\n",
              "          const element = document.querySelector('#df-9b3981e4-5ae9-4e85-a288-cb845cf459e6');\n",
              "          const dataTable =\n",
              "            await google.colab.kernel.invokeFunction('convertToInteractive',\n",
              "                                                     [key], {});\n",
              "          if (!dataTable) return;\n",
              "\n",
              "          const docLinkHtml = 'Like what you see? Visit the ' +\n",
              "            '<a target=\"_blank\" href=https://colab.research.google.com/notebooks/data_table.ipynb>data table notebook</a>'\n",
              "            + ' to learn more about interactive tables.';\n",
              "          element.innerHTML = '';\n",
              "          dataTable['output_type'] = 'display_data';\n",
              "          await google.colab.output.renderOutput(dataTable, element);\n",
              "          const docLink = document.createElement('div');\n",
              "          docLink.innerHTML = docLinkHtml;\n",
              "          element.appendChild(docLink);\n",
              "        }\n",
              "      </script>\n",
              "    </div>\n",
              "  </div>\n",
              "  "
            ]
          },
          "metadata": {},
          "execution_count": 78
        }
      ]
    },
    {
      "cell_type": "markdown",
      "source": [
        "## Ejercicio 3.2"
      ],
      "metadata": {
        "id": "XhIMyPhrE3Zl"
      }
    },
    {
      "cell_type": "markdown",
      "source": [
        "Creo el dataset, y pruebo distintos parámetros para el clasificador usando GridSearch."
      ],
      "metadata": {
        "id": "OIf-8sVIWa9r"
      }
    },
    {
      "cell_type": "code",
      "source": [
        "etiquetas = ['grupo_A', 'grupo_B']\n",
        "n = 10000\n",
        "dim = 2\n",
        "centroides = [[10, 10],\n",
        "              [16, 14]]\n",
        "covarianzas = [[[15, 0], [0, 15]],\n",
        "               [[20, 0], [0, 20]]]"
      ],
      "metadata": {
        "id": "53alytngQoBP"
      },
      "execution_count": 13,
      "outputs": []
    },
    {
      "cell_type": "code",
      "source": [
        "dataset = crear_dataset_balanceado(etiquetas = etiquetas,\n",
        "                                   datos_por_grupo = n,\n",
        "                                   dimensiones = dim,\n",
        "                                   centroides = centroides,\n",
        "                                   covarianzas = covarianzas)"
      ],
      "metadata": {
        "id": "rDaSEqhzQoUY"
      },
      "execution_count": 14,
      "outputs": []
    },
    {
      "cell_type": "code",
      "source": [
        "training_set, test_set = train_test_split(dataset, test_size=0.5)"
      ],
      "metadata": {
        "id": "-LNs-s9XQ67o"
      },
      "execution_count": 15,
      "outputs": []
    },
    {
      "cell_type": "code",
      "source": [
        "X = training_set.loc[:, training_set.columns != 'etiqueta']\n",
        "\n",
        "y = training_set['etiqueta']\n",
        "\n",
        "parametros = {'n_neighbors': [3,10,50,100], 'weights': ['uniform', 'distance']}\n",
        "\n",
        "knn = neighbors.KNeighborsClassifier()\n",
        "\n",
        "from sklearn.model_selection import GridSearchCV\n",
        "\n",
        "clf = GridSearchCV(knn, parametros)\n",
        "\n",
        "clf.fit(X, y)"
      ],
      "metadata": {
        "colab": {
          "base_uri": "https://localhost:8080/"
        },
        "id": "ZfTB4JOLQ7Le",
        "outputId": "f38b0ba0-8177-43a5-e001-f051be0410ac"
      },
      "execution_count": 16,
      "outputs": [
        {
          "output_type": "execute_result",
          "data": {
            "text/plain": [
              "GridSearchCV(estimator=KNeighborsClassifier(),\n",
              "             param_grid={'n_neighbors': [3, 10, 50, 100],\n",
              "                         'weights': ['uniform', 'distance']})"
            ]
          },
          "metadata": {},
          "execution_count": 16
        }
      ]
    },
    {
      "cell_type": "markdown",
      "source": [
        "Genero un dataframe con los parámetros y los resultados correspondientes."
      ],
      "metadata": {
        "id": "kXwWmqZVWnUU"
      }
    },
    {
      "cell_type": "code",
      "source": [
        "resultados_cv = pd.DataFrame()\n",
        "\n",
        "resultados_cv['k'] = clf.cv_results_['param_n_neighbors'].data\n",
        "\n",
        "resultados_cv['weight'] = clf.cv_results_['param_weights'].data\n",
        "\n",
        "resultados_cv['score'] = clf.cv_results_['mean_test_score']"
      ],
      "metadata": {
        "id": "cz5MC40QSxAX"
      },
      "execution_count": null,
      "outputs": []
    },
    {
      "cell_type": "markdown",
      "source": [
        "En este caso, los mejores resultados se obtuvieron con k = 100 y weights = 'uniform'."
      ],
      "metadata": {
        "id": "kP6_hJ4DTvYC"
      }
    },
    {
      "cell_type": "code",
      "source": [
        "resultados_cv"
      ],
      "metadata": {
        "colab": {
          "base_uri": "https://localhost:8080/",
          "height": 300
        },
        "id": "EMo_iJOpSXzB",
        "outputId": "d1c32ab2-5a2d-45ea-e272-e7bbcfa5ba05"
      },
      "execution_count": null,
      "outputs": [
        {
          "output_type": "execute_result",
          "data": {
            "text/plain": [
              "     k    weight   score\n",
              "0    3   uniform  0.7615\n",
              "1    3  distance  0.7500\n",
              "2   10   uniform  0.7923\n",
              "3   10  distance  0.7824\n",
              "4   50   uniform  0.8057\n",
              "5   50  distance  0.8006\n",
              "6  100   uniform  0.8080\n",
              "7  100  distance  0.8039"
            ],
            "text/html": [
              "\n",
              "  <div id=\"df-f628f5ea-7843-460b-9a99-b7a972e7e459\">\n",
              "    <div class=\"colab-df-container\">\n",
              "      <div>\n",
              "<style scoped>\n",
              "    .dataframe tbody tr th:only-of-type {\n",
              "        vertical-align: middle;\n",
              "    }\n",
              "\n",
              "    .dataframe tbody tr th {\n",
              "        vertical-align: top;\n",
              "    }\n",
              "\n",
              "    .dataframe thead th {\n",
              "        text-align: right;\n",
              "    }\n",
              "</style>\n",
              "<table border=\"1\" class=\"dataframe\">\n",
              "  <thead>\n",
              "    <tr style=\"text-align: right;\">\n",
              "      <th></th>\n",
              "      <th>k</th>\n",
              "      <th>weight</th>\n",
              "      <th>score</th>\n",
              "    </tr>\n",
              "  </thead>\n",
              "  <tbody>\n",
              "    <tr>\n",
              "      <th>0</th>\n",
              "      <td>3</td>\n",
              "      <td>uniform</td>\n",
              "      <td>0.7615</td>\n",
              "    </tr>\n",
              "    <tr>\n",
              "      <th>1</th>\n",
              "      <td>3</td>\n",
              "      <td>distance</td>\n",
              "      <td>0.7500</td>\n",
              "    </tr>\n",
              "    <tr>\n",
              "      <th>2</th>\n",
              "      <td>10</td>\n",
              "      <td>uniform</td>\n",
              "      <td>0.7923</td>\n",
              "    </tr>\n",
              "    <tr>\n",
              "      <th>3</th>\n",
              "      <td>10</td>\n",
              "      <td>distance</td>\n",
              "      <td>0.7824</td>\n",
              "    </tr>\n",
              "    <tr>\n",
              "      <th>4</th>\n",
              "      <td>50</td>\n",
              "      <td>uniform</td>\n",
              "      <td>0.8057</td>\n",
              "    </tr>\n",
              "    <tr>\n",
              "      <th>5</th>\n",
              "      <td>50</td>\n",
              "      <td>distance</td>\n",
              "      <td>0.8006</td>\n",
              "    </tr>\n",
              "    <tr>\n",
              "      <th>6</th>\n",
              "      <td>100</td>\n",
              "      <td>uniform</td>\n",
              "      <td>0.8080</td>\n",
              "    </tr>\n",
              "    <tr>\n",
              "      <th>7</th>\n",
              "      <td>100</td>\n",
              "      <td>distance</td>\n",
              "      <td>0.8039</td>\n",
              "    </tr>\n",
              "  </tbody>\n",
              "</table>\n",
              "</div>\n",
              "      <button class=\"colab-df-convert\" onclick=\"convertToInteractive('df-f628f5ea-7843-460b-9a99-b7a972e7e459')\"\n",
              "              title=\"Convert this dataframe to an interactive table.\"\n",
              "              style=\"display:none;\">\n",
              "        \n",
              "  <svg xmlns=\"http://www.w3.org/2000/svg\" height=\"24px\"viewBox=\"0 0 24 24\"\n",
              "       width=\"24px\">\n",
              "    <path d=\"M0 0h24v24H0V0z\" fill=\"none\"/>\n",
              "    <path d=\"M18.56 5.44l.94 2.06.94-2.06 2.06-.94-2.06-.94-.94-2.06-.94 2.06-2.06.94zm-11 1L8.5 8.5l.94-2.06 2.06-.94-2.06-.94L8.5 2.5l-.94 2.06-2.06.94zm10 10l.94 2.06.94-2.06 2.06-.94-2.06-.94-.94-2.06-.94 2.06-2.06.94z\"/><path d=\"M17.41 7.96l-1.37-1.37c-.4-.4-.92-.59-1.43-.59-.52 0-1.04.2-1.43.59L10.3 9.45l-7.72 7.72c-.78.78-.78 2.05 0 2.83L4 21.41c.39.39.9.59 1.41.59.51 0 1.02-.2 1.41-.59l7.78-7.78 2.81-2.81c.8-.78.8-2.07 0-2.86zM5.41 20L4 18.59l7.72-7.72 1.47 1.35L5.41 20z\"/>\n",
              "  </svg>\n",
              "      </button>\n",
              "      \n",
              "  <style>\n",
              "    .colab-df-container {\n",
              "      display:flex;\n",
              "      flex-wrap:wrap;\n",
              "      gap: 12px;\n",
              "    }\n",
              "\n",
              "    .colab-df-convert {\n",
              "      background-color: #E8F0FE;\n",
              "      border: none;\n",
              "      border-radius: 50%;\n",
              "      cursor: pointer;\n",
              "      display: none;\n",
              "      fill: #1967D2;\n",
              "      height: 32px;\n",
              "      padding: 0 0 0 0;\n",
              "      width: 32px;\n",
              "    }\n",
              "\n",
              "    .colab-df-convert:hover {\n",
              "      background-color: #E2EBFA;\n",
              "      box-shadow: 0px 1px 2px rgba(60, 64, 67, 0.3), 0px 1px 3px 1px rgba(60, 64, 67, 0.15);\n",
              "      fill: #174EA6;\n",
              "    }\n",
              "\n",
              "    [theme=dark] .colab-df-convert {\n",
              "      background-color: #3B4455;\n",
              "      fill: #D2E3FC;\n",
              "    }\n",
              "\n",
              "    [theme=dark] .colab-df-convert:hover {\n",
              "      background-color: #434B5C;\n",
              "      box-shadow: 0px 1px 3px 1px rgba(0, 0, 0, 0.15);\n",
              "      filter: drop-shadow(0px 1px 2px rgba(0, 0, 0, 0.3));\n",
              "      fill: #FFFFFF;\n",
              "    }\n",
              "  </style>\n",
              "\n",
              "      <script>\n",
              "        const buttonEl =\n",
              "          document.querySelector('#df-f628f5ea-7843-460b-9a99-b7a972e7e459 button.colab-df-convert');\n",
              "        buttonEl.style.display =\n",
              "          google.colab.kernel.accessAllowed ? 'block' : 'none';\n",
              "\n",
              "        async function convertToInteractive(key) {\n",
              "          const element = document.querySelector('#df-f628f5ea-7843-460b-9a99-b7a972e7e459');\n",
              "          const dataTable =\n",
              "            await google.colab.kernel.invokeFunction('convertToInteractive',\n",
              "                                                     [key], {});\n",
              "          if (!dataTable) return;\n",
              "\n",
              "          const docLinkHtml = 'Like what you see? Visit the ' +\n",
              "            '<a target=\"_blank\" href=https://colab.research.google.com/notebooks/data_table.ipynb>data table notebook</a>'\n",
              "            + ' to learn more about interactive tables.';\n",
              "          element.innerHTML = '';\n",
              "          dataTable['output_type'] = 'display_data';\n",
              "          await google.colab.output.renderOutput(dataTable, element);\n",
              "          const docLink = document.createElement('div');\n",
              "          docLink.innerHTML = docLinkHtml;\n",
              "          element.appendChild(docLink);\n",
              "        }\n",
              "      </script>\n",
              "    </div>\n",
              "  </div>\n",
              "  "
            ]
          },
          "metadata": {},
          "execution_count": 100
        }
      ]
    },
    {
      "cell_type": "markdown",
      "source": [
        "## Ejercicio 3.3"
      ],
      "metadata": {
        "id": "hUvAUBMCE3iu"
      }
    },
    {
      "cell_type": "markdown",
      "source": [
        "### Importar Datos\n"
      ],
      "metadata": {
        "id": "xOQcufsGWkXh"
      }
    },
    {
      "cell_type": "code",
      "source": [
        "attributes_spotify = pd.read_csv(\"https://raw.githubusercontent.com/emmanueliarussi/DataScienceCapstone/master/3_MidtermProjects/ProjectBOM/data/attributes_spotify.csv\")"
      ],
      "metadata": {
        "id": "4WhCh0LnWkhT"
      },
      "execution_count": 200,
      "outputs": []
    },
    {
      "cell_type": "code",
      "source": [
        "training_set, test_set = train_test_split(attributes_spotify, test_size=0.2, random_state = 7)"
      ],
      "metadata": {
        "id": "wtZmQ05xOPn0"
      },
      "execution_count": 201,
      "outputs": []
    },
    {
      "cell_type": "code",
      "source": [
        "training_set.head()"
      ],
      "metadata": {
        "colab": {
          "base_uri": "https://localhost:8080/",
          "height": 426
        },
        "id": "U7zVq4yyO_bO",
        "outputId": "f2e637de-6130-4d28-cb24-9f42e7200d06"
      },
      "execution_count": 130,
      "outputs": [
        {
          "output_type": "execute_result",
          "data": {
            "text/plain": [
              "      Unnamed: 0  acousticness  danceability  duration_ms  energy  \\\n",
              "167          167      0.217000         0.704       185437   0.657   \n",
              "643          643      0.000891         0.806       297907   0.772   \n",
              "1991        1991      0.000366         0.544       245133   0.788   \n",
              "188          188      0.019000         0.695       246521   0.940   \n",
              "1208        1208      0.076200         0.809       195853   0.628   \n",
              "\n",
              "      instrumentalness  key  liveness  loudness  mode  speechiness    tempo  \\\n",
              "167           0.000118   10    0.0888    -7.172     0       0.3500  150.058   \n",
              "643           0.864000    6    0.1010   -14.369     1       0.0856  125.325   \n",
              "1991          0.000000    5    0.1410    -5.593     0       0.0474  148.121   \n",
              "188           0.800000    7    0.6230    -2.935     1       0.1270  100.262   \n",
              "1208          0.000371   11    0.1130    -5.021     0       0.0561  130.008   \n",
              "\n",
              "      time_signature  valence  target  \\\n",
              "167              4.0    0.804       1   \n",
              "643              4.0    0.436       1   \n",
              "1991             4.0    0.821       0   \n",
              "188              4.0    0.337       1   \n",
              "1208             4.0    0.797       0   \n",
              "\n",
              "                                             song_title          artist  \n",
              "167                            Callie (feat. Vic Mensa)  Donnie Trumpet  \n",
              "643                                         No Way Back          Adonis  \n",
              "1991                                              Jenny   WALK THE MOON  \n",
              "188                                         N.O. Bounce     Big Freedia  \n",
              "1208  Sexy Bitch (feat. Akon) - Featuring Akon;explicit    David Guetta  "
            ],
            "text/html": [
              "\n",
              "  <div id=\"df-b96706e9-fb55-4e16-a280-b75e5ee78e2b\">\n",
              "    <div class=\"colab-df-container\">\n",
              "      <div>\n",
              "<style scoped>\n",
              "    .dataframe tbody tr th:only-of-type {\n",
              "        vertical-align: middle;\n",
              "    }\n",
              "\n",
              "    .dataframe tbody tr th {\n",
              "        vertical-align: top;\n",
              "    }\n",
              "\n",
              "    .dataframe thead th {\n",
              "        text-align: right;\n",
              "    }\n",
              "</style>\n",
              "<table border=\"1\" class=\"dataframe\">\n",
              "  <thead>\n",
              "    <tr style=\"text-align: right;\">\n",
              "      <th></th>\n",
              "      <th>Unnamed: 0</th>\n",
              "      <th>acousticness</th>\n",
              "      <th>danceability</th>\n",
              "      <th>duration_ms</th>\n",
              "      <th>energy</th>\n",
              "      <th>instrumentalness</th>\n",
              "      <th>key</th>\n",
              "      <th>liveness</th>\n",
              "      <th>loudness</th>\n",
              "      <th>mode</th>\n",
              "      <th>speechiness</th>\n",
              "      <th>tempo</th>\n",
              "      <th>time_signature</th>\n",
              "      <th>valence</th>\n",
              "      <th>target</th>\n",
              "      <th>song_title</th>\n",
              "      <th>artist</th>\n",
              "    </tr>\n",
              "  </thead>\n",
              "  <tbody>\n",
              "    <tr>\n",
              "      <th>167</th>\n",
              "      <td>167</td>\n",
              "      <td>0.217000</td>\n",
              "      <td>0.704</td>\n",
              "      <td>185437</td>\n",
              "      <td>0.657</td>\n",
              "      <td>0.000118</td>\n",
              "      <td>10</td>\n",
              "      <td>0.0888</td>\n",
              "      <td>-7.172</td>\n",
              "      <td>0</td>\n",
              "      <td>0.3500</td>\n",
              "      <td>150.058</td>\n",
              "      <td>4.0</td>\n",
              "      <td>0.804</td>\n",
              "      <td>1</td>\n",
              "      <td>Callie (feat. Vic Mensa)</td>\n",
              "      <td>Donnie Trumpet</td>\n",
              "    </tr>\n",
              "    <tr>\n",
              "      <th>643</th>\n",
              "      <td>643</td>\n",
              "      <td>0.000891</td>\n",
              "      <td>0.806</td>\n",
              "      <td>297907</td>\n",
              "      <td>0.772</td>\n",
              "      <td>0.864000</td>\n",
              "      <td>6</td>\n",
              "      <td>0.1010</td>\n",
              "      <td>-14.369</td>\n",
              "      <td>1</td>\n",
              "      <td>0.0856</td>\n",
              "      <td>125.325</td>\n",
              "      <td>4.0</td>\n",
              "      <td>0.436</td>\n",
              "      <td>1</td>\n",
              "      <td>No Way Back</td>\n",
              "      <td>Adonis</td>\n",
              "    </tr>\n",
              "    <tr>\n",
              "      <th>1991</th>\n",
              "      <td>1991</td>\n",
              "      <td>0.000366</td>\n",
              "      <td>0.544</td>\n",
              "      <td>245133</td>\n",
              "      <td>0.788</td>\n",
              "      <td>0.000000</td>\n",
              "      <td>5</td>\n",
              "      <td>0.1410</td>\n",
              "      <td>-5.593</td>\n",
              "      <td>0</td>\n",
              "      <td>0.0474</td>\n",
              "      <td>148.121</td>\n",
              "      <td>4.0</td>\n",
              "      <td>0.821</td>\n",
              "      <td>0</td>\n",
              "      <td>Jenny</td>\n",
              "      <td>WALK THE MOON</td>\n",
              "    </tr>\n",
              "    <tr>\n",
              "      <th>188</th>\n",
              "      <td>188</td>\n",
              "      <td>0.019000</td>\n",
              "      <td>0.695</td>\n",
              "      <td>246521</td>\n",
              "      <td>0.940</td>\n",
              "      <td>0.800000</td>\n",
              "      <td>7</td>\n",
              "      <td>0.6230</td>\n",
              "      <td>-2.935</td>\n",
              "      <td>1</td>\n",
              "      <td>0.1270</td>\n",
              "      <td>100.262</td>\n",
              "      <td>4.0</td>\n",
              "      <td>0.337</td>\n",
              "      <td>1</td>\n",
              "      <td>N.O. Bounce</td>\n",
              "      <td>Big Freedia</td>\n",
              "    </tr>\n",
              "    <tr>\n",
              "      <th>1208</th>\n",
              "      <td>1208</td>\n",
              "      <td>0.076200</td>\n",
              "      <td>0.809</td>\n",
              "      <td>195853</td>\n",
              "      <td>0.628</td>\n",
              "      <td>0.000371</td>\n",
              "      <td>11</td>\n",
              "      <td>0.1130</td>\n",
              "      <td>-5.021</td>\n",
              "      <td>0</td>\n",
              "      <td>0.0561</td>\n",
              "      <td>130.008</td>\n",
              "      <td>4.0</td>\n",
              "      <td>0.797</td>\n",
              "      <td>0</td>\n",
              "      <td>Sexy Bitch (feat. Akon) - Featuring Akon;explicit</td>\n",
              "      <td>David Guetta</td>\n",
              "    </tr>\n",
              "  </tbody>\n",
              "</table>\n",
              "</div>\n",
              "      <button class=\"colab-df-convert\" onclick=\"convertToInteractive('df-b96706e9-fb55-4e16-a280-b75e5ee78e2b')\"\n",
              "              title=\"Convert this dataframe to an interactive table.\"\n",
              "              style=\"display:none;\">\n",
              "        \n",
              "  <svg xmlns=\"http://www.w3.org/2000/svg\" height=\"24px\"viewBox=\"0 0 24 24\"\n",
              "       width=\"24px\">\n",
              "    <path d=\"M0 0h24v24H0V0z\" fill=\"none\"/>\n",
              "    <path d=\"M18.56 5.44l.94 2.06.94-2.06 2.06-.94-2.06-.94-.94-2.06-.94 2.06-2.06.94zm-11 1L8.5 8.5l.94-2.06 2.06-.94-2.06-.94L8.5 2.5l-.94 2.06-2.06.94zm10 10l.94 2.06.94-2.06 2.06-.94-2.06-.94-.94-2.06-.94 2.06-2.06.94z\"/><path d=\"M17.41 7.96l-1.37-1.37c-.4-.4-.92-.59-1.43-.59-.52 0-1.04.2-1.43.59L10.3 9.45l-7.72 7.72c-.78.78-.78 2.05 0 2.83L4 21.41c.39.39.9.59 1.41.59.51 0 1.02-.2 1.41-.59l7.78-7.78 2.81-2.81c.8-.78.8-2.07 0-2.86zM5.41 20L4 18.59l7.72-7.72 1.47 1.35L5.41 20z\"/>\n",
              "  </svg>\n",
              "      </button>\n",
              "      \n",
              "  <style>\n",
              "    .colab-df-container {\n",
              "      display:flex;\n",
              "      flex-wrap:wrap;\n",
              "      gap: 12px;\n",
              "    }\n",
              "\n",
              "    .colab-df-convert {\n",
              "      background-color: #E8F0FE;\n",
              "      border: none;\n",
              "      border-radius: 50%;\n",
              "      cursor: pointer;\n",
              "      display: none;\n",
              "      fill: #1967D2;\n",
              "      height: 32px;\n",
              "      padding: 0 0 0 0;\n",
              "      width: 32px;\n",
              "    }\n",
              "\n",
              "    .colab-df-convert:hover {\n",
              "      background-color: #E2EBFA;\n",
              "      box-shadow: 0px 1px 2px rgba(60, 64, 67, 0.3), 0px 1px 3px 1px rgba(60, 64, 67, 0.15);\n",
              "      fill: #174EA6;\n",
              "    }\n",
              "\n",
              "    [theme=dark] .colab-df-convert {\n",
              "      background-color: #3B4455;\n",
              "      fill: #D2E3FC;\n",
              "    }\n",
              "\n",
              "    [theme=dark] .colab-df-convert:hover {\n",
              "      background-color: #434B5C;\n",
              "      box-shadow: 0px 1px 3px 1px rgba(0, 0, 0, 0.15);\n",
              "      filter: drop-shadow(0px 1px 2px rgba(0, 0, 0, 0.3));\n",
              "      fill: #FFFFFF;\n",
              "    }\n",
              "  </style>\n",
              "\n",
              "      <script>\n",
              "        const buttonEl =\n",
              "          document.querySelector('#df-b96706e9-fb55-4e16-a280-b75e5ee78e2b button.colab-df-convert');\n",
              "        buttonEl.style.display =\n",
              "          google.colab.kernel.accessAllowed ? 'block' : 'none';\n",
              "\n",
              "        async function convertToInteractive(key) {\n",
              "          const element = document.querySelector('#df-b96706e9-fb55-4e16-a280-b75e5ee78e2b');\n",
              "          const dataTable =\n",
              "            await google.colab.kernel.invokeFunction('convertToInteractive',\n",
              "                                                     [key], {});\n",
              "          if (!dataTable) return;\n",
              "\n",
              "          const docLinkHtml = 'Like what you see? Visit the ' +\n",
              "            '<a target=\"_blank\" href=https://colab.research.google.com/notebooks/data_table.ipynb>data table notebook</a>'\n",
              "            + ' to learn more about interactive tables.';\n",
              "          element.innerHTML = '';\n",
              "          dataTable['output_type'] = 'display_data';\n",
              "          await google.colab.output.renderOutput(dataTable, element);\n",
              "          const docLink = document.createElement('div');\n",
              "          docLink.innerHTML = docLinkHtml;\n",
              "          element.appendChild(docLink);\n",
              "        }\n",
              "      </script>\n",
              "    </div>\n",
              "  </div>\n",
              "  "
            ]
          },
          "metadata": {},
          "execution_count": 130
        }
      ]
    },
    {
      "cell_type": "markdown",
      "source": [
        "El dataset está balanceado:"
      ],
      "metadata": {
        "id": "ON8jkCcIUM1F"
      }
    },
    {
      "cell_type": "code",
      "source": [
        "training_set['target'].value_counts()"
      ],
      "metadata": {
        "colab": {
          "base_uri": "https://localhost:8080/"
        },
        "id": "aMhguApQUJqi",
        "outputId": "85fca779-7a00-476d-8c40-f5586d161405"
      },
      "execution_count": 165,
      "outputs": [
        {
          "output_type": "execute_result",
          "data": {
            "text/plain": [
              "1    810\n",
              "0    803\n",
              "Name: target, dtype: int64"
            ]
          },
          "metadata": {},
          "execution_count": 165
        }
      ]
    },
    {
      "cell_type": "markdown",
      "source": [
        "### Data Wrangling"
      ],
      "metadata": {
        "id": "jM2ErkhBLV53"
      }
    },
    {
      "cell_type": "markdown",
      "source": [
        "Realizo las siguientes modificaciones teniendo en cuenta la [documentación de Spotify](https://developer.spotify.com/documentation/web-api/reference/#/operations/get-audio-features) sobre el significado de las variables."
      ],
      "metadata": {
        "id": "nZDbPA2nLZCH"
      }
    },
    {
      "cell_type": "markdown",
      "source": [
        "Convierto variables numéricas en booleanas considerando los puntos de corte indicados por la documentación. Hago esto porque creo que a la hora de elegir un outcome (si la canción gusta o no) importa más si una característica está presente o no que el valor de esa característica (por ejemplo, importa más saber si la canción es acústica que el valor numérico de acousticness). Aplico este razonamiento a las variables 'acousticness', 'danceability', 'energy', 'instrumentalness', 'liveness', 'speechiness' y 'valence'."
      ],
      "metadata": {
        "id": "2HS8CycmOl8o"
      }
    },
    {
      "cell_type": "code",
      "source": [
        "def convertir_variable(dataframe, variable, punto_de_corte):\n",
        "\n",
        "  '''\n",
        "  La función transforma una variable numérica en booleana.\n",
        "  \n",
        "  dataframe: pandas dataframe a convertir.\n",
        "  variable: string con el nombre de la variable.\n",
        "  punto_de_corte: float, los valores mayor a este número serán considerados True y el resto de los valores serán False.\n",
        "  '''\n",
        "\n",
        "  nueva_columna = dataframe[variable].apply(lambda x: True if x > punto_de_corte else False)\n",
        "\n",
        "  return nueva_columna"
      ],
      "metadata": {
        "id": "7OHPN18Nr9hQ"
      },
      "execution_count": 202,
      "outputs": []
    },
    {
      "cell_type": "code",
      "source": [
        "puntos_de_corte = [{'variable': 'acousticness', 'punto_de_corte': 0.7}, # Uso 0.7 cuando la documentación no indica un punto de corte en particular.\n",
        "                   {'variable': 'danceability', 'punto_de_corte': 0.7},\n",
        "                   {'variable': 'energy', 'punto_de_corte': 0.7},\n",
        "                   {'variable': 'instrumentalness', 'punto_de_corte': 0.5},\n",
        "                   {'variable': 'liveness', 'punto_de_corte': 0.7},\n",
        "                   {'variable': 'speechiness', 'punto_de_corte': 0.33},\n",
        "                   {'variable': 'valence', 'punto_de_corte': 0.7}]\n",
        "\n",
        "for elemento in puntos_de_corte:\n",
        "\n",
        "  training_set[elemento['variable']] = convertir_variable(dataframe = training_set, variable = elemento['variable'], punto_de_corte = elemento['punto_de_corte'])\n"
      ],
      "metadata": {
        "id": "GxO3WMpPqCGa"
      },
      "execution_count": 203,
      "outputs": []
    },
    {
      "cell_type": "markdown",
      "source": [
        "Transformo la variable 'duration_ms' a categórica con tres niveles: 0 (duración corta), 1 (duración media) y 2 (duración larga). Elijo 2:30 mins y 4:00 mins como puntos de corte."
      ],
      "metadata": {
        "id": "3tJ-8P6zLvfq"
      }
    },
    {
      "cell_type": "code",
      "source": [
        "def clasificar_duracion(duracion_ms):\n",
        "\n",
        "  if duracion_ms < 150000:\n",
        "\n",
        "    clase = 0\n",
        "\n",
        "  elif duracion_ms > 240000:\n",
        "\n",
        "    clase = 2\n",
        "\n",
        "  else:\n",
        "\n",
        "    clase = 1\n",
        "\n",
        "  return clase\n",
        "\n",
        "training_set['duration_ms'] = training_set['duration_ms'].apply(lambda x: clasificar_duracion(x))"
      ],
      "metadata": {
        "id": "KA0W8aNGOfZk"
      },
      "execution_count": 204,
      "outputs": []
    },
    {
      "cell_type": "markdown",
      "source": [
        "Transformo la variable 'song_title' a 'idioma', ya que el título en sí no sería útil para el modelo, pero puede servir para identificar el idioma de la canción (el cual, creo, es una variable que puede influir en el outcome).\n",
        "  \n",
        "  Nota: La función para detectar idiomas suele tener errores, por lo que en vez de tomar el nombre del idioma la uso solo para identificar si la canción está en inglés."
      ],
      "metadata": {
        "id": "IyRZ8hwML9Mh"
      }
    },
    {
      "cell_type": "code",
      "source": [
        "from langdetect import detect\n",
        "\n",
        "def detectar_idioma(string):\n",
        "\n",
        "  try:\n",
        "\n",
        "    return detect(string) == 'en'  \n",
        "\n",
        "  except:\n",
        "\n",
        "    return False\n",
        "\n",
        "training_set['idioma'] = training_set['song_title'].apply(lambda x: detectar_idioma(x))"
      ],
      "metadata": {
        "id": "REd9QPv2yK6M"
      },
      "execution_count": 205,
      "outputs": []
    },
    {
      "cell_type": "markdown",
      "source": [
        "Convierto la variable 'artist' a una variable booleana con valor True si la frecuencia de canciones de ese o esa artista es relativamente alta, porque este dato seguramente influya en el outcome.texto en negrita"
      ],
      "metadata": {
        "id": "bXXGzEAlMEKB"
      }
    },
    {
      "cell_type": "code",
      "source": [
        "canciones_por_artista = training_set['artist'].value_counts().rename_axis('artista').reset_index(name='cantidad')\n",
        "\n",
        "artistas_favoritos = canciones_por_artista[canciones_por_artista['cantidad'] > 3]['artista'].to_list()"
      ],
      "metadata": {
        "id": "zHXI_2VRJnAL"
      },
      "execution_count": 206,
      "outputs": []
    },
    {
      "cell_type": "code",
      "source": [
        "artistas_favoritos[0:10]"
      ],
      "metadata": {
        "colab": {
          "base_uri": "https://localhost:8080/"
        },
        "id": "wzuuUhQXNQNf",
        "outputId": "2005a541-6ba5-47a1-a4a4-7e43bca2e461"
      },
      "execution_count": 121,
      "outputs": [
        {
          "output_type": "execute_result",
          "data": {
            "text/plain": [
              "['Drake',\n",
              " 'Disclosure',\n",
              " 'Rick Ross',\n",
              " 'WALK THE MOON',\n",
              " 'Kanye West',\n",
              " 'Big Time Rush',\n",
              " 'Crystal Castles',\n",
              " 'FIDLAR',\n",
              " 'The Chainsmokers',\n",
              " 'Skrillex']"
            ]
          },
          "metadata": {},
          "execution_count": 121
        }
      ]
    },
    {
      "cell_type": "code",
      "source": [
        "training_set['artista_favorito'] = training_set['artist'].apply(lambda x: x in artistas_favoritos)"
      ],
      "metadata": {
        "id": "Ou22J096Bt9Q"
      },
      "execution_count": 207,
      "outputs": []
    },
    {
      "cell_type": "markdown",
      "source": [
        "Creo variables dummy para las variables categóricas (duracion_ms y key)."
      ],
      "metadata": {
        "id": "uHcdmqYuapuO"
      }
    },
    {
      "cell_type": "code",
      "source": [
        "training_set = pd.get_dummies(training_set, columns = ['duration_ms', 'key'], drop_first = True)"
      ],
      "metadata": {
        "id": "UaIYmXoMefmD"
      },
      "execution_count": 209,
      "outputs": []
    },
    {
      "cell_type": "markdown",
      "source": [
        "Normalizo las variables numéricas (loudness, tempo y time_signature)."
      ],
      "metadata": {
        "id": "1NTdqjMdf7AJ"
      }
    },
    {
      "cell_type": "code",
      "source": [
        "from sklearn.preprocessing import MinMaxScaler\n",
        "\n",
        "scaler = MinMaxScaler()\n",
        "\n",
        "scaler.fit(training_set[['loudness', 'tempo', 'time_signature']])\n",
        "\n",
        "training_set[['loudness', 'tempo', 'time_signature']] = scaler.transform(training_set[['loudness', 'tempo', 'time_signature']])"
      ],
      "metadata": {
        "id": "0VA7xhtfaobe"
      },
      "execution_count": 219,
      "outputs": []
    },
    {
      "cell_type": "markdown",
      "source": [
        "Elimino las columnas que no sirven."
      ],
      "metadata": {
        "id": "1ixMCVUdNbj5"
      }
    },
    {
      "cell_type": "code",
      "source": [
        "training_set.drop(['Unnamed: 0', 'song_title', 'artist'], axis = 1, inplace = True)"
      ],
      "metadata": {
        "id": "g9P5hVleK5jM"
      },
      "execution_count": 222,
      "outputs": []
    },
    {
      "cell_type": "code",
      "source": [
        "training_set.head()"
      ],
      "metadata": {
        "colab": {
          "base_uri": "https://localhost:8080/",
          "height": 300
        },
        "id": "L1SjsoRuWk44",
        "outputId": "dc8cf78e-6261-4371-f06e-94e769f88649"
      },
      "execution_count": 223,
      "outputs": [
        {
          "output_type": "execute_result",
          "data": {
            "text/plain": [
              "      acousticness  danceability  energy  instrumentalness  liveness  \\\n",
              "167          False          True   False             False     False   \n",
              "643          False          True    True              True     False   \n",
              "1991         False         False    True             False     False   \n",
              "188          False         False    True              True     False   \n",
              "1208         False          True   False             False     False   \n",
              "\n",
              "      loudness  mode  speechiness     tempo  time_signature  ...  key_2  \\\n",
              "167   0.790637     0         True  0.631532            0.75  ...      0   \n",
              "643   0.571150     1        False  0.478696            0.75  ...      0   \n",
              "1991  0.838792     0        False  0.619563            0.75  ...      0   \n",
              "188   0.919854     1        False  0.323821            0.75  ...      0   \n",
              "1208  0.856237     0        False  0.507635            0.75  ...      0   \n",
              "\n",
              "      key_3  key_4  key_5  key_6  key_7  key_8  key_9  key_10  key_11  \n",
              "167       0      0      0      0      0      0      0       1       0  \n",
              "643       0      0      0      1      0      0      0       0       0  \n",
              "1991      0      0      1      0      0      0      0       0       0  \n",
              "188       0      0      0      0      1      0      0       0       0  \n",
              "1208      0      0      0      0      0      0      0       0       1  \n",
              "\n",
              "[5 rows x 27 columns]"
            ],
            "text/html": [
              "\n",
              "  <div id=\"df-50457bde-2501-46bf-9469-28d67e2cd22c\">\n",
              "    <div class=\"colab-df-container\">\n",
              "      <div>\n",
              "<style scoped>\n",
              "    .dataframe tbody tr th:only-of-type {\n",
              "        vertical-align: middle;\n",
              "    }\n",
              "\n",
              "    .dataframe tbody tr th {\n",
              "        vertical-align: top;\n",
              "    }\n",
              "\n",
              "    .dataframe thead th {\n",
              "        text-align: right;\n",
              "    }\n",
              "</style>\n",
              "<table border=\"1\" class=\"dataframe\">\n",
              "  <thead>\n",
              "    <tr style=\"text-align: right;\">\n",
              "      <th></th>\n",
              "      <th>acousticness</th>\n",
              "      <th>danceability</th>\n",
              "      <th>energy</th>\n",
              "      <th>instrumentalness</th>\n",
              "      <th>liveness</th>\n",
              "      <th>loudness</th>\n",
              "      <th>mode</th>\n",
              "      <th>speechiness</th>\n",
              "      <th>tempo</th>\n",
              "      <th>time_signature</th>\n",
              "      <th>...</th>\n",
              "      <th>key_2</th>\n",
              "      <th>key_3</th>\n",
              "      <th>key_4</th>\n",
              "      <th>key_5</th>\n",
              "      <th>key_6</th>\n",
              "      <th>key_7</th>\n",
              "      <th>key_8</th>\n",
              "      <th>key_9</th>\n",
              "      <th>key_10</th>\n",
              "      <th>key_11</th>\n",
              "    </tr>\n",
              "  </thead>\n",
              "  <tbody>\n",
              "    <tr>\n",
              "      <th>167</th>\n",
              "      <td>False</td>\n",
              "      <td>True</td>\n",
              "      <td>False</td>\n",
              "      <td>False</td>\n",
              "      <td>False</td>\n",
              "      <td>0.790637</td>\n",
              "      <td>0</td>\n",
              "      <td>True</td>\n",
              "      <td>0.631532</td>\n",
              "      <td>0.75</td>\n",
              "      <td>...</td>\n",
              "      <td>0</td>\n",
              "      <td>0</td>\n",
              "      <td>0</td>\n",
              "      <td>0</td>\n",
              "      <td>0</td>\n",
              "      <td>0</td>\n",
              "      <td>0</td>\n",
              "      <td>0</td>\n",
              "      <td>1</td>\n",
              "      <td>0</td>\n",
              "    </tr>\n",
              "    <tr>\n",
              "      <th>643</th>\n",
              "      <td>False</td>\n",
              "      <td>True</td>\n",
              "      <td>True</td>\n",
              "      <td>True</td>\n",
              "      <td>False</td>\n",
              "      <td>0.571150</td>\n",
              "      <td>1</td>\n",
              "      <td>False</td>\n",
              "      <td>0.478696</td>\n",
              "      <td>0.75</td>\n",
              "      <td>...</td>\n",
              "      <td>0</td>\n",
              "      <td>0</td>\n",
              "      <td>0</td>\n",
              "      <td>0</td>\n",
              "      <td>1</td>\n",
              "      <td>0</td>\n",
              "      <td>0</td>\n",
              "      <td>0</td>\n",
              "      <td>0</td>\n",
              "      <td>0</td>\n",
              "    </tr>\n",
              "    <tr>\n",
              "      <th>1991</th>\n",
              "      <td>False</td>\n",
              "      <td>False</td>\n",
              "      <td>True</td>\n",
              "      <td>False</td>\n",
              "      <td>False</td>\n",
              "      <td>0.838792</td>\n",
              "      <td>0</td>\n",
              "      <td>False</td>\n",
              "      <td>0.619563</td>\n",
              "      <td>0.75</td>\n",
              "      <td>...</td>\n",
              "      <td>0</td>\n",
              "      <td>0</td>\n",
              "      <td>0</td>\n",
              "      <td>1</td>\n",
              "      <td>0</td>\n",
              "      <td>0</td>\n",
              "      <td>0</td>\n",
              "      <td>0</td>\n",
              "      <td>0</td>\n",
              "      <td>0</td>\n",
              "    </tr>\n",
              "    <tr>\n",
              "      <th>188</th>\n",
              "      <td>False</td>\n",
              "      <td>False</td>\n",
              "      <td>True</td>\n",
              "      <td>True</td>\n",
              "      <td>False</td>\n",
              "      <td>0.919854</td>\n",
              "      <td>1</td>\n",
              "      <td>False</td>\n",
              "      <td>0.323821</td>\n",
              "      <td>0.75</td>\n",
              "      <td>...</td>\n",
              "      <td>0</td>\n",
              "      <td>0</td>\n",
              "      <td>0</td>\n",
              "      <td>0</td>\n",
              "      <td>0</td>\n",
              "      <td>1</td>\n",
              "      <td>0</td>\n",
              "      <td>0</td>\n",
              "      <td>0</td>\n",
              "      <td>0</td>\n",
              "    </tr>\n",
              "    <tr>\n",
              "      <th>1208</th>\n",
              "      <td>False</td>\n",
              "      <td>True</td>\n",
              "      <td>False</td>\n",
              "      <td>False</td>\n",
              "      <td>False</td>\n",
              "      <td>0.856237</td>\n",
              "      <td>0</td>\n",
              "      <td>False</td>\n",
              "      <td>0.507635</td>\n",
              "      <td>0.75</td>\n",
              "      <td>...</td>\n",
              "      <td>0</td>\n",
              "      <td>0</td>\n",
              "      <td>0</td>\n",
              "      <td>0</td>\n",
              "      <td>0</td>\n",
              "      <td>0</td>\n",
              "      <td>0</td>\n",
              "      <td>0</td>\n",
              "      <td>0</td>\n",
              "      <td>1</td>\n",
              "    </tr>\n",
              "  </tbody>\n",
              "</table>\n",
              "<p>5 rows × 27 columns</p>\n",
              "</div>\n",
              "      <button class=\"colab-df-convert\" onclick=\"convertToInteractive('df-50457bde-2501-46bf-9469-28d67e2cd22c')\"\n",
              "              title=\"Convert this dataframe to an interactive table.\"\n",
              "              style=\"display:none;\">\n",
              "        \n",
              "  <svg xmlns=\"http://www.w3.org/2000/svg\" height=\"24px\"viewBox=\"0 0 24 24\"\n",
              "       width=\"24px\">\n",
              "    <path d=\"M0 0h24v24H0V0z\" fill=\"none\"/>\n",
              "    <path d=\"M18.56 5.44l.94 2.06.94-2.06 2.06-.94-2.06-.94-.94-2.06-.94 2.06-2.06.94zm-11 1L8.5 8.5l.94-2.06 2.06-.94-2.06-.94L8.5 2.5l-.94 2.06-2.06.94zm10 10l.94 2.06.94-2.06 2.06-.94-2.06-.94-.94-2.06-.94 2.06-2.06.94z\"/><path d=\"M17.41 7.96l-1.37-1.37c-.4-.4-.92-.59-1.43-.59-.52 0-1.04.2-1.43.59L10.3 9.45l-7.72 7.72c-.78.78-.78 2.05 0 2.83L4 21.41c.39.39.9.59 1.41.59.51 0 1.02-.2 1.41-.59l7.78-7.78 2.81-2.81c.8-.78.8-2.07 0-2.86zM5.41 20L4 18.59l7.72-7.72 1.47 1.35L5.41 20z\"/>\n",
              "  </svg>\n",
              "      </button>\n",
              "      \n",
              "  <style>\n",
              "    .colab-df-container {\n",
              "      display:flex;\n",
              "      flex-wrap:wrap;\n",
              "      gap: 12px;\n",
              "    }\n",
              "\n",
              "    .colab-df-convert {\n",
              "      background-color: #E8F0FE;\n",
              "      border: none;\n",
              "      border-radius: 50%;\n",
              "      cursor: pointer;\n",
              "      display: none;\n",
              "      fill: #1967D2;\n",
              "      height: 32px;\n",
              "      padding: 0 0 0 0;\n",
              "      width: 32px;\n",
              "    }\n",
              "\n",
              "    .colab-df-convert:hover {\n",
              "      background-color: #E2EBFA;\n",
              "      box-shadow: 0px 1px 2px rgba(60, 64, 67, 0.3), 0px 1px 3px 1px rgba(60, 64, 67, 0.15);\n",
              "      fill: #174EA6;\n",
              "    }\n",
              "\n",
              "    [theme=dark] .colab-df-convert {\n",
              "      background-color: #3B4455;\n",
              "      fill: #D2E3FC;\n",
              "    }\n",
              "\n",
              "    [theme=dark] .colab-df-convert:hover {\n",
              "      background-color: #434B5C;\n",
              "      box-shadow: 0px 1px 3px 1px rgba(0, 0, 0, 0.15);\n",
              "      filter: drop-shadow(0px 1px 2px rgba(0, 0, 0, 0.3));\n",
              "      fill: #FFFFFF;\n",
              "    }\n",
              "  </style>\n",
              "\n",
              "      <script>\n",
              "        const buttonEl =\n",
              "          document.querySelector('#df-50457bde-2501-46bf-9469-28d67e2cd22c button.colab-df-convert');\n",
              "        buttonEl.style.display =\n",
              "          google.colab.kernel.accessAllowed ? 'block' : 'none';\n",
              "\n",
              "        async function convertToInteractive(key) {\n",
              "          const element = document.querySelector('#df-50457bde-2501-46bf-9469-28d67e2cd22c');\n",
              "          const dataTable =\n",
              "            await google.colab.kernel.invokeFunction('convertToInteractive',\n",
              "                                                     [key], {});\n",
              "          if (!dataTable) return;\n",
              "\n",
              "          const docLinkHtml = 'Like what you see? Visit the ' +\n",
              "            '<a target=\"_blank\" href=https://colab.research.google.com/notebooks/data_table.ipynb>data table notebook</a>'\n",
              "            + ' to learn more about interactive tables.';\n",
              "          element.innerHTML = '';\n",
              "          dataTable['output_type'] = 'display_data';\n",
              "          await google.colab.output.renderOutput(dataTable, element);\n",
              "          const docLink = document.createElement('div');\n",
              "          docLink.innerHTML = docLinkHtml;\n",
              "          element.appendChild(docLink);\n",
              "        }\n",
              "      </script>\n",
              "    </div>\n",
              "  </div>\n",
              "  "
            ]
          },
          "metadata": {},
          "execution_count": 223
        }
      ]
    },
    {
      "cell_type": "markdown",
      "source": [
        "### Modelo de Clasificación"
      ],
      "metadata": {
        "id": "xlKj3rzwNxdx"
      }
    },
    {
      "cell_type": "markdown",
      "source": [
        "Entreno un modelo knn. Uso GridSearch para buscar la mejor combinación de parámetros."
      ],
      "metadata": {
        "id": "DHx3yRMsN4o-"
      }
    },
    {
      "cell_type": "code",
      "source": [
        "X = training_set.loc[:, training_set.columns != 'target']\n",
        "\n",
        "y = training_set['target']\n",
        "\n",
        "parametros = {'n_neighbors': [20, 30, 40, 50, 60, 70, 80, 90, 100], 'weights': ['uniform', 'distance']}\n",
        "\n",
        "knn = neighbors.KNeighborsClassifier()\n",
        "\n",
        "clf = GridSearchCV(knn, parametros)\n",
        "\n",
        "clf.fit(X, y)"
      ],
      "metadata": {
        "colab": {
          "base_uri": "https://localhost:8080/"
        },
        "id": "YBCBdELqOKzB",
        "outputId": "2178043b-b88c-4495-d736-6719ad67b179"
      },
      "execution_count": 234,
      "outputs": [
        {
          "output_type": "execute_result",
          "data": {
            "text/plain": [
              "GridSearchCV(estimator=KNeighborsClassifier(),\n",
              "             param_grid={'n_neighbors': [20, 30, 40, 50, 60, 70, 80, 90, 100],\n",
              "                         'weights': ['uniform', 'distance']})"
            ]
          },
          "metadata": {},
          "execution_count": 234
        }
      ]
    },
    {
      "cell_type": "code",
      "source": [
        "resultados_cv = pd.DataFrame()\n",
        "\n",
        "resultados_cv['k'] = clf.cv_results_['param_n_neighbors'].data\n",
        "\n",
        "resultados_cv['weight'] = clf.cv_results_['param_weights'].data\n",
        "\n",
        "resultados_cv['score'] = clf.cv_results_['mean_test_score']"
      ],
      "metadata": {
        "id": "is4IxKM5OK9C"
      },
      "execution_count": 235,
      "outputs": []
    },
    {
      "cell_type": "markdown",
      "source": [
        "Las métricas más altas corresponden a k = 70 y weight = 'uniform'."
      ],
      "metadata": {
        "id": "diBMquEsRgAn"
      }
    },
    {
      "cell_type": "code",
      "source": [
        "resultados_cv[resultados_cv['score'] == resultados_cv['score'].max()]"
      ],
      "metadata": {
        "colab": {
          "base_uri": "https://localhost:8080/",
          "height": 81
        },
        "id": "qicAwdjDOLE9",
        "outputId": "62a6e402-6208-4822-c5b3-4b1e61a810b9"
      },
      "execution_count": 236,
      "outputs": [
        {
          "output_type": "execute_result",
          "data": {
            "text/plain": [
              "     k   weight     score\n",
              "10  70  uniform  0.664621"
            ],
            "text/html": [
              "\n",
              "  <div id=\"df-7a54fda0-a63e-4e6e-bd2c-d5f9a8fadab6\">\n",
              "    <div class=\"colab-df-container\">\n",
              "      <div>\n",
              "<style scoped>\n",
              "    .dataframe tbody tr th:only-of-type {\n",
              "        vertical-align: middle;\n",
              "    }\n",
              "\n",
              "    .dataframe tbody tr th {\n",
              "        vertical-align: top;\n",
              "    }\n",
              "\n",
              "    .dataframe thead th {\n",
              "        text-align: right;\n",
              "    }\n",
              "</style>\n",
              "<table border=\"1\" class=\"dataframe\">\n",
              "  <thead>\n",
              "    <tr style=\"text-align: right;\">\n",
              "      <th></th>\n",
              "      <th>k</th>\n",
              "      <th>weight</th>\n",
              "      <th>score</th>\n",
              "    </tr>\n",
              "  </thead>\n",
              "  <tbody>\n",
              "    <tr>\n",
              "      <th>10</th>\n",
              "      <td>70</td>\n",
              "      <td>uniform</td>\n",
              "      <td>0.664621</td>\n",
              "    </tr>\n",
              "  </tbody>\n",
              "</table>\n",
              "</div>\n",
              "      <button class=\"colab-df-convert\" onclick=\"convertToInteractive('df-7a54fda0-a63e-4e6e-bd2c-d5f9a8fadab6')\"\n",
              "              title=\"Convert this dataframe to an interactive table.\"\n",
              "              style=\"display:none;\">\n",
              "        \n",
              "  <svg xmlns=\"http://www.w3.org/2000/svg\" height=\"24px\"viewBox=\"0 0 24 24\"\n",
              "       width=\"24px\">\n",
              "    <path d=\"M0 0h24v24H0V0z\" fill=\"none\"/>\n",
              "    <path d=\"M18.56 5.44l.94 2.06.94-2.06 2.06-.94-2.06-.94-.94-2.06-.94 2.06-2.06.94zm-11 1L8.5 8.5l.94-2.06 2.06-.94-2.06-.94L8.5 2.5l-.94 2.06-2.06.94zm10 10l.94 2.06.94-2.06 2.06-.94-2.06-.94-.94-2.06-.94 2.06-2.06.94z\"/><path d=\"M17.41 7.96l-1.37-1.37c-.4-.4-.92-.59-1.43-.59-.52 0-1.04.2-1.43.59L10.3 9.45l-7.72 7.72c-.78.78-.78 2.05 0 2.83L4 21.41c.39.39.9.59 1.41.59.51 0 1.02-.2 1.41-.59l7.78-7.78 2.81-2.81c.8-.78.8-2.07 0-2.86zM5.41 20L4 18.59l7.72-7.72 1.47 1.35L5.41 20z\"/>\n",
              "  </svg>\n",
              "      </button>\n",
              "      \n",
              "  <style>\n",
              "    .colab-df-container {\n",
              "      display:flex;\n",
              "      flex-wrap:wrap;\n",
              "      gap: 12px;\n",
              "    }\n",
              "\n",
              "    .colab-df-convert {\n",
              "      background-color: #E8F0FE;\n",
              "      border: none;\n",
              "      border-radius: 50%;\n",
              "      cursor: pointer;\n",
              "      display: none;\n",
              "      fill: #1967D2;\n",
              "      height: 32px;\n",
              "      padding: 0 0 0 0;\n",
              "      width: 32px;\n",
              "    }\n",
              "\n",
              "    .colab-df-convert:hover {\n",
              "      background-color: #E2EBFA;\n",
              "      box-shadow: 0px 1px 2px rgba(60, 64, 67, 0.3), 0px 1px 3px 1px rgba(60, 64, 67, 0.15);\n",
              "      fill: #174EA6;\n",
              "    }\n",
              "\n",
              "    [theme=dark] .colab-df-convert {\n",
              "      background-color: #3B4455;\n",
              "      fill: #D2E3FC;\n",
              "    }\n",
              "\n",
              "    [theme=dark] .colab-df-convert:hover {\n",
              "      background-color: #434B5C;\n",
              "      box-shadow: 0px 1px 3px 1px rgba(0, 0, 0, 0.15);\n",
              "      filter: drop-shadow(0px 1px 2px rgba(0, 0, 0, 0.3));\n",
              "      fill: #FFFFFF;\n",
              "    }\n",
              "  </style>\n",
              "\n",
              "      <script>\n",
              "        const buttonEl =\n",
              "          document.querySelector('#df-7a54fda0-a63e-4e6e-bd2c-d5f9a8fadab6 button.colab-df-convert');\n",
              "        buttonEl.style.display =\n",
              "          google.colab.kernel.accessAllowed ? 'block' : 'none';\n",
              "\n",
              "        async function convertToInteractive(key) {\n",
              "          const element = document.querySelector('#df-7a54fda0-a63e-4e6e-bd2c-d5f9a8fadab6');\n",
              "          const dataTable =\n",
              "            await google.colab.kernel.invokeFunction('convertToInteractive',\n",
              "                                                     [key], {});\n",
              "          if (!dataTable) return;\n",
              "\n",
              "          const docLinkHtml = 'Like what you see? Visit the ' +\n",
              "            '<a target=\"_blank\" href=https://colab.research.google.com/notebooks/data_table.ipynb>data table notebook</a>'\n",
              "            + ' to learn more about interactive tables.';\n",
              "          element.innerHTML = '';\n",
              "          dataTable['output_type'] = 'display_data';\n",
              "          await google.colab.output.renderOutput(dataTable, element);\n",
              "          const docLink = document.createElement('div');\n",
              "          docLink.innerHTML = docLinkHtml;\n",
              "          element.appendChild(docLink);\n",
              "        }\n",
              "      </script>\n",
              "    </div>\n",
              "  </div>\n",
              "  "
            ]
          },
          "metadata": {},
          "execution_count": 236
        }
      ]
    },
    {
      "cell_type": "code",
      "source": [
        "modelo = neighbors.KNeighborsClassifier(n_neighbors = 70, weights = 'uniform')\n",
        "\n",
        "modelo.fit(X, y)"
      ],
      "metadata": {
        "colab": {
          "base_uri": "https://localhost:8080/"
        },
        "id": "xXfjUTGwSz7j",
        "outputId": "da35d1b4-d399-43b2-cc10-99b2ece0658e"
      },
      "execution_count": 237,
      "outputs": [
        {
          "output_type": "execute_result",
          "data": {
            "text/plain": [
              "KNeighborsClassifier(n_neighbors=70)"
            ]
          },
          "metadata": {},
          "execution_count": 237
        }
      ]
    },
    {
      "cell_type": "markdown",
      "source": [
        "Aplico las funciones de data wrangling al test set y testeo el modelo."
      ],
      "metadata": {
        "id": "ulCbolvqRevD"
      }
    },
    {
      "cell_type": "code",
      "source": [
        "puntos_de_corte = [{'variable': 'acousticness', 'punto_de_corte': 0.7},\n",
        "                   {'variable': 'danceability', 'punto_de_corte': 0.7},\n",
        "                   {'variable': 'energy', 'punto_de_corte': 0.7},\n",
        "                   {'variable': 'instrumentalness', 'punto_de_corte': 0.5},\n",
        "                   {'variable': 'liveness', 'punto_de_corte': 0.7},\n",
        "                   {'variable': 'speechiness', 'punto_de_corte': 0.33},\n",
        "                   {'variable': 'valence', 'punto_de_corte': 0.7}]\n",
        "\n",
        "for elemento in puntos_de_corte:\n",
        "\n",
        "  test_set[elemento['variable']] = convertir_variable(dataframe = test_set, variable = elemento['variable'], punto_de_corte = elemento['punto_de_corte'])"
      ],
      "metadata": {
        "id": "p4NorL3nR0q8"
      },
      "execution_count": 238,
      "outputs": []
    },
    {
      "cell_type": "code",
      "source": [
        "test_set['duration_ms'] = test_set['duration_ms'].apply(lambda x: clasificar_duracion(x))"
      ],
      "metadata": {
        "id": "wZFsyk3_R0yE"
      },
      "execution_count": 239,
      "outputs": []
    },
    {
      "cell_type": "code",
      "source": [
        "test_set['idioma'] = test_set['song_title'].apply(lambda x: detectar_idioma(x))"
      ],
      "metadata": {
        "id": "9xLfDfBmR04b"
      },
      "execution_count": 240,
      "outputs": []
    },
    {
      "cell_type": "code",
      "source": [
        "test_set['artista_favorito'] = test_set['artist'].apply(lambda x: x in artistas_favoritos) # Uso la lista de artistas favoritos del training set."
      ],
      "metadata": {
        "id": "RNB1-9DbR0_f"
      },
      "execution_count": 241,
      "outputs": []
    },
    {
      "cell_type": "code",
      "source": [
        "test_set = pd.get_dummies(test_set, columns = ['duration_ms', 'key'], drop_first = True)"
      ],
      "metadata": {
        "id": "_fj5sH0NjunQ"
      },
      "execution_count": 242,
      "outputs": []
    },
    {
      "cell_type": "code",
      "source": [
        "test_set[['loudness', 'tempo', 'time_signature']] = scaler.transform(test_set[['loudness', 'tempo', 'time_signature']])"
      ],
      "metadata": {
        "id": "yW2pfolJjuxF"
      },
      "execution_count": 243,
      "outputs": []
    },
    {
      "cell_type": "code",
      "source": [
        "test_set.drop(['Unnamed: 0', 'song_title', 'artist'], axis = 1, inplace = True)"
      ],
      "metadata": {
        "id": "yUCqtzAYju6E"
      },
      "execution_count": 244,
      "outputs": []
    },
    {
      "cell_type": "code",
      "source": [
        "X_test = test_set.loc[:, test_set.columns != 'target']\n",
        "\n",
        "predicciones = modelo.predict(X_test)"
      ],
      "metadata": {
        "id": "-GMDEXT7SWli"
      },
      "execution_count": 245,
      "outputs": []
    },
    {
      "cell_type": "markdown",
      "source": [
        "La accuracy del modelo es de 0.65."
      ],
      "metadata": {
        "id": "woqIyxqMU6XH"
      }
    },
    {
      "cell_type": "code",
      "source": [
        "print(classification_report(test_set['target'], predicciones))"
      ],
      "metadata": {
        "colab": {
          "base_uri": "https://localhost:8080/"
        },
        "id": "44JsE97NSWv6",
        "outputId": "98675bd2-694e-491c-f7ef-e9cfd7cbf667"
      },
      "execution_count": 246,
      "outputs": [
        {
          "output_type": "stream",
          "name": "stdout",
          "text": [
            "              precision    recall  f1-score   support\n",
            "\n",
            "           0       0.60      0.76      0.67       194\n",
            "           1       0.71      0.54      0.61       210\n",
            "\n",
            "    accuracy                           0.65       404\n",
            "   macro avg       0.66      0.65      0.64       404\n",
            "weighted avg       0.66      0.65      0.64       404\n",
            "\n"
          ]
        }
      ]
    }
  ]
}